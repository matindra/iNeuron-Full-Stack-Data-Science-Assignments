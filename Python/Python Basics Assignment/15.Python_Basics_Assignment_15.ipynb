{
 "cells": [
  {
   "cell_type": "markdown",
   "id": "297c4a73",
   "metadata": {},
   "source": [
    "#### Q 1.How many seconds are in an hour? Use the interactive interpreter as a calculator and multiply the number of seconds in a minute (60) by the number of minutes in an hour (also 60)."
   ]
  },
  {
   "cell_type": "code",
   "execution_count": 2,
   "id": "a507ad5e",
   "metadata": {},
   "outputs": [
    {
     "name": "stdout",
     "output_type": "stream",
     "text": [
      "3600\n"
     ]
    }
   ],
   "source": [
    "# Ans\n",
    "\n",
    "print(60*60)"
   ]
  },
  {
   "cell_type": "markdown",
   "id": "a13c21cc",
   "metadata": {},
   "source": [
    "#### Q 2. Assign the result from the previous task (seconds in an hour) to a variable called seconds_per_hour."
   ]
  },
  {
   "cell_type": "code",
   "execution_count": 4,
   "id": "b2c452b3",
   "metadata": {},
   "outputs": [
    {
     "name": "stdout",
     "output_type": "stream",
     "text": [
      "3600\n"
     ]
    }
   ],
   "source": [
    "seconds_per_hour = 60*60\n",
    "print(seconds_per_hour)"
   ]
  },
  {
   "cell_type": "markdown",
   "id": "139a28ee",
   "metadata": {},
   "source": [
    "#### Q 3. How many seconds do you think there are in a day? Make use of the variables seconds per hour and minutes per hour."
   ]
  },
  {
   "cell_type": "code",
   "execution_count": 11,
   "id": "ce7e10a0",
   "metadata": {},
   "outputs": [
    {
     "name": "stdout",
     "output_type": "stream",
     "text": [
      "86400\n"
     ]
    }
   ],
   "source": [
    "# Ans\n",
    "\n",
    "minutes_per_hour = 60\n",
    "print(seconds_per_hour*24)"
   ]
  },
  {
   "cell_type": "markdown",
   "id": "5cc40e41",
   "metadata": {},
   "source": [
    "#### Q 4. Calculate seconds per day again, but this time save the result in a variable called seconds_per_day"
   ]
  },
  {
   "cell_type": "code",
   "execution_count": 12,
   "id": "d025f1ce",
   "metadata": {},
   "outputs": [
    {
     "name": "stdout",
     "output_type": "stream",
     "text": [
      "86400\n"
     ]
    }
   ],
   "source": [
    "# Ans\n",
    "\n",
    "seconds_per_day = 24*60*60\n",
    "print(seconds_per_day)"
   ]
  },
  {
   "cell_type": "markdown",
   "id": "c2751abc",
   "metadata": {},
   "source": [
    "#### Q 5. Divide seconds_per_day by seconds_per_hour. Use floating-point (/) division."
   ]
  },
  {
   "cell_type": "code",
   "execution_count": 13,
   "id": "87860289",
   "metadata": {},
   "outputs": [
    {
     "name": "stdout",
     "output_type": "stream",
     "text": [
      "24.0\n"
     ]
    }
   ],
   "source": [
    "# Ans\n",
    "\n",
    "print(seconds_per_day/seconds_per_hour)"
   ]
  },
  {
   "cell_type": "markdown",
   "id": "aefbdff0",
   "metadata": {},
   "source": [
    "#### Q 6. Divide seconds_per_day by seconds_per_hour, using integer (//) division. Did this number agree with the floating-point value from the previous question, aside from the final .0?"
   ]
  },
  {
   "cell_type": "code",
   "execution_count": 17,
   "id": "8d4a7c8b",
   "metadata": {},
   "outputs": [
    {
     "name": "stdout",
     "output_type": "stream",
     "text": [
      "24\n",
      "=>Yes this values agree with the floating point value from the previous question.\n"
     ]
    }
   ],
   "source": [
    "print(seconds_per_day//seconds_per_hour)\n",
    "print('=>Yes this values agree with the floating point value from the previous question.')"
   ]
  },
  {
   "cell_type": "markdown",
   "id": "8c2ff0a2",
   "metadata": {},
   "source": [
    "#### Q 7. Write a generator, genPrimes, that returns the sequence of prime numbers on successive calls to its next() method: 2, 3, 5, 7, 11, ..."
   ]
  },
  {
   "cell_type": "code",
   "execution_count": 1,
   "id": "33b6d1dd",
   "metadata": {},
   "outputs": [],
   "source": [
    "#Ans\n",
    "\n",
    "def genPrimes():\n",
    "    \"\"\"\n",
    "    Generator function that yields the sequence of prime numbers\n",
    "    \"\"\"\n",
    "    primes = []  # list to store primes found so far\n",
    "    num = 2  # start with the first prime number\n",
    "    \n",
    "    while True:\n",
    "        # check if num is prime\n",
    "        is_prime = True\n",
    "        for p in primes:\n",
    "            if num % p == 0:\n",
    "                is_prime = False\n",
    "                break\n",
    "        \n",
    "        # if num is prime, yield it and add it to the list of primes\n",
    "        if is_prime:\n",
    "            primes.append(num)\n",
    "            yield num\n",
    "        \n",
    "        num += 1  # increment num for the next iteration\n"
   ]
  },
  {
   "cell_type": "code",
   "execution_count": 2,
   "id": "ded2cfc3",
   "metadata": {},
   "outputs": [],
   "source": [
    "g = genPrimes()"
   ]
  },
  {
   "cell_type": "code",
   "execution_count": 3,
   "id": "a211ef09",
   "metadata": {},
   "outputs": [
    {
     "data": {
      "text/plain": [
       "2"
      ]
     },
     "execution_count": 3,
     "metadata": {},
     "output_type": "execute_result"
    }
   ],
   "source": [
    "next(g)"
   ]
  },
  {
   "cell_type": "code",
   "execution_count": 4,
   "id": "aa1d610d",
   "metadata": {},
   "outputs": [
    {
     "data": {
      "text/plain": [
       "3"
      ]
     },
     "execution_count": 4,
     "metadata": {},
     "output_type": "execute_result"
    }
   ],
   "source": [
    "next(g)"
   ]
  },
  {
   "cell_type": "code",
   "execution_count": 5,
   "id": "4103fa83",
   "metadata": {},
   "outputs": [
    {
     "data": {
      "text/plain": [
       "5"
      ]
     },
     "execution_count": 5,
     "metadata": {},
     "output_type": "execute_result"
    }
   ],
   "source": [
    "next(g)"
   ]
  },
  {
   "cell_type": "code",
   "execution_count": 6,
   "id": "c27053ff",
   "metadata": {},
   "outputs": [
    {
     "data": {
      "text/plain": [
       "7"
      ]
     },
     "execution_count": 6,
     "metadata": {},
     "output_type": "execute_result"
    }
   ],
   "source": [
    "next(g)"
   ]
  },
  {
   "cell_type": "code",
   "execution_count": null,
   "id": "8b55e2dd",
   "metadata": {},
   "outputs": [],
   "source": []
  }
 ],
 "metadata": {
  "kernelspec": {
   "display_name": "Python 3 (ipykernel)",
   "language": "python",
   "name": "python3"
  },
  "language_info": {
   "codemirror_mode": {
    "name": "ipython",
    "version": 3
   },
   "file_extension": ".py",
   "mimetype": "text/x-python",
   "name": "python",
   "nbconvert_exporter": "python",
   "pygments_lexer": "ipython3",
   "version": "3.10.6"
  }
 },
 "nbformat": 4,
 "nbformat_minor": 5
}
