{
 "cells": [
  {
   "cell_type": "code",
   "execution_count": null,
   "id": "abc7fb32",
   "metadata": {},
   "outputs": [],
   "source": [
    "#Answer 1\n",
    "\n",
    "A relative path refers to a location that is relative to a current directory.\n"
   ]
  },
  {
   "cell_type": "code",
   "execution_count": null,
   "id": "61324dee",
   "metadata": {},
   "outputs": [],
   "source": [
    "#Answer 2\n",
    "\n",
    "An absolute path refers to the complete details needed to locate a file or folder,\n",
    "starting from the root element and ending with the other subdirectories.\n",
    "Absolute paths are used in websites and operating systems for locating files and folders.\n",
    "\n",
    "An absolute path is also known as an absolute pathname or full path.\n",
    "\n",
    "ex. D:\\Data\\assignment.py"
   ]
  },
  {
   "cell_type": "code",
   "execution_count": 4,
   "id": "d0813ca3",
   "metadata": {},
   "outputs": [],
   "source": [
    "#Answer 3\n",
    "\n",
    "os.getcwd() : This function allows you to see what your current working directory is.\n",
    "\n",
    "os.chdir() : This function Change the current working directory to the specified path mentiomed."
   ]
  },
  {
   "cell_type": "code",
   "execution_count": null,
   "id": "9c664e99",
   "metadata": {},
   "outputs": [],
   "source": [
    "#Answer 4\n",
    "\n",
    "The . is the current directory, while .. signifies the parent directory.\n",
    "It makes things quicker at the command line as well so you don't need to type out full paths."
   ]
  },
  {
   "cell_type": "code",
   "execution_count": 5,
   "id": "636d4750",
   "metadata": {},
   "outputs": [],
   "source": [
    "#Answer 5\n",
    "\n",
    "dir name = C:\\bacon\\eggs\n",
    "base (or file) name = spam.txt"
   ]
  },
  {
   "cell_type": "code",
   "execution_count": null,
   "id": "202b58db",
   "metadata": {},
   "outputs": [],
   "source": [
    "#Answer 6\n",
    "\n",
    "The three “mode” arguments that can be passed to the open()\n",
    "function are - The string 'r' for read mode, 'w' for write mode, and 'a' for append mode"
   ]
  },
  {
   "cell_type": "code",
   "execution_count": null,
   "id": "51d52080",
   "metadata": {},
   "outputs": [],
   "source": [
    "#Answer 7\n",
    "\n",
    "An existing file opened in write mode is erased and completely overwritten."
   ]
  },
  {
   "cell_type": "code",
   "execution_count": null,
   "id": "09ffa83e",
   "metadata": {},
   "outputs": [],
   "source": [
    "#Answer 8\n",
    "\n",
    "The read() method returns the file's entire contents as a single string value.\n",
    "The readlines() method returns a list of strings, where each string is a line from the file's contents."
   ]
  },
  {
   "cell_type": "code",
   "execution_count": null,
   "id": "6454b653",
   "metadata": {},
   "outputs": [],
   "source": [
    "#Answer 9\n",
    "\n",
    "A shelf value resembles a dictionary value; it has keys and values, along with keys() and values() methods that work similarly to the dictionary methods of the same names."
   ]
  }
 ],
 "metadata": {
  "kernelspec": {
   "display_name": "Python 3 (ipykernel)",
   "language": "python",
   "name": "python3"
  },
  "language_info": {
   "codemirror_mode": {
    "name": "ipython",
    "version": 3
   },
   "file_extension": ".py",
   "mimetype": "text/x-python",
   "name": "python",
   "nbconvert_exporter": "python",
   "pygments_lexer": "ipython3",
   "version": "3.10.4"
  }
 },
 "nbformat": 4,
 "nbformat_minor": 5
}
