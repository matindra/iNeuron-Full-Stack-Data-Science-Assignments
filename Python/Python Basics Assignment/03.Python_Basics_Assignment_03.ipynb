{
 "cells": [
  {
   "cell_type": "code",
   "execution_count": null,
   "id": "34d5d465",
   "metadata": {},
   "outputs": [],
   "source": [
    "Answer 1\n",
    "\n",
    "Functions are advantegeous because we dont have to write duplicate code again and again.\n",
    "We can reuse same code once written. It makes program shorter, easier to read, and easier to update."
   ]
  },
  {
   "cell_type": "code",
   "execution_count": null,
   "id": "7e8ae8ed",
   "metadata": {},
   "outputs": [],
   "source": [
    "Answer 2\n",
    "\n",
    "code in a function run: when it's called."
   ]
  },
  {
   "cell_type": "code",
   "execution_count": null,
   "id": "d9450cbe",
   "metadata": {},
   "outputs": [],
   "source": [
    "Answer 3\n",
    "\n",
    "A function is defined by keyword def followed by the function name and parentheses () then end with a colon (:). \n",
    "Any input parameters or arguments should be placed within these parentheses.\n",
    "Then the statements it executes."
   ]
  },
  {
   "cell_type": "code",
   "execution_count": null,
   "id": "00b030df",
   "metadata": {},
   "outputs": [],
   "source": [
    "Answer 4\n",
    "\n",
    "A function is a block of code that does a particular operation and returns a result.\n",
    "It usually accepts inputs as parameters and returns a result.\n",
    "\n",
    "Where as A function call means invoking or calling that function.\n",
    "Unless a function is called there is no use of that function."
   ]
  },
  {
   "cell_type": "code",
   "execution_count": null,
   "id": "914a46a7",
   "metadata": {},
   "outputs": [],
   "source": [
    "Answer 5\n",
    "\n",
    "There's only one global Python scope per program execution.\n",
    "This scope remains in existence inside the program until the program terminates and all its names are forgotten.\n",
    "\n",
    "The Variables which are defined inside the function are a local scope of the variable.\n",
    "These variables are defined in the function body. We can have as many numbers of local variables\n",
    "we want in same program with same name."
   ]
  },
  {
   "cell_type": "code",
   "execution_count": null,
   "id": "8ce7b75a",
   "metadata": {},
   "outputs": [],
   "source": [
    "Answer 6\n",
    "\n",
    "After execution of the function, the local variables are destroyed.\n",
    "Because the local variables disappear after the function returns."
   ]
  },
  {
   "cell_type": "code",
   "execution_count": null,
   "id": "1b36e1b5",
   "metadata": {},
   "outputs": [],
   "source": [
    "Answer 7\n",
    "\n",
    "Return value is result of exection of a block of code or function that aims to accomplish something\n",
    "by executing the code and always meant to return output. So Returning a value means returning output.\n",
    "\n",
    "Yes it is possible to have a return value in an expression."
   ]
  },
  {
   "cell_type": "code",
   "execution_count": null,
   "id": "335ea56f",
   "metadata": {},
   "outputs": [],
   "source": [
    "Answer 8\n",
    "\n",
    "If a function does not have a return statement, then return value of call to that function will always be None."
   ]
  },
  {
   "cell_type": "code",
   "execution_count": null,
   "id": "0a3d1bf6",
   "metadata": {},
   "outputs": [],
   "source": [
    "Answer 9\n",
    "\n",
    "We can make a function variable refer to the global variable by using the global keyword\n",
    "to declare which variables are global."
   ]
  },
  {
   "cell_type": "code",
   "execution_count": null,
   "id": "3b6c7290",
   "metadata": {},
   "outputs": [],
   "source": [
    "Answer 10\n",
    "\n",
    "None is the special data type in Python. It just represents the absence of the value.\n",
    "\n",
    "None data type in Python is same as “null” in other programming languages.\n",
    "It means the variable contains nothing as its value & also we can override it\n",
    "further according to the necessities."
   ]
  },
  {
   "cell_type": "code",
   "execution_count": 3,
   "id": "6ef8c7e8",
   "metadata": {},
   "outputs": [],
   "source": [
    "Answer 11\n",
    "\n",
    "It will import the libaray name areallyourpetsnamederic"
   ]
  },
  {
   "cell_type": "code",
   "execution_count": null,
   "id": "7db44068",
   "metadata": {},
   "outputs": [],
   "source": [
    "Answer 12\n",
    "\n",
    "This function can be called with spam.bacon()"
   ]
  },
  {
   "cell_type": "code",
   "execution_count": null,
   "id": "f86ea24a",
   "metadata": {},
   "outputs": [],
   "source": [
    "Answer 13\n",
    "\n",
    "Try running the program and it should throw an error message instead of crashing the program.\n",
    "The reason for the exception is also returned as an exception message.\n",
    "In the above code, we have handled the file reading inside an IOError exception handler."
   ]
  },
  {
   "cell_type": "code",
   "execution_count": null,
   "id": "0f16c54c",
   "metadata": {},
   "outputs": [],
   "source": [
    "Answer 14\n",
    "\n",
    "In the try clause, all statements are executed until an exception is encountered.\n",
    "except is used to catch and handle the exception(s) that are encountered in the try clause.\n",
    "else lets you code sections that should run only when no exceptions are encountered in the try clause."
   ]
  }
 ],
 "metadata": {
  "kernelspec": {
   "display_name": "Python 3 (ipykernel)",
   "language": "python",
   "name": "python3"
  },
  "language_info": {
   "codemirror_mode": {
    "name": "ipython",
    "version": 3
   },
   "file_extension": ".py",
   "mimetype": "text/x-python",
   "name": "python",
   "nbconvert_exporter": "python",
   "pygments_lexer": "ipython3",
   "version": "3.10.4"
  }
 },
 "nbformat": 4,
 "nbformat_minor": 5
}
