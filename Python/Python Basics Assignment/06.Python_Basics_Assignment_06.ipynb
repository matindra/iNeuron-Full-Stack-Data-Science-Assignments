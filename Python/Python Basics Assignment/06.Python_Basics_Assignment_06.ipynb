{
 "cells": [
  {
   "cell_type": "code",
   "execution_count": null,
   "id": "abc7fb32",
   "metadata": {},
   "outputs": [],
   "source": [
    "#Answer 1\n",
    "\n",
    "In Python strings, the backslash \"\\\" is a special character,\n",
    "also called the \"escape\" character. It is used in representing certain whitespace\n",
    "characters: \"\\t\" is a tab, \"\\n\" is a newline, and \"\\r\" is a carriage return"
   ]
  },
  {
   "cell_type": "code",
   "execution_count": 2,
   "id": "473970e7",
   "metadata": {},
   "outputs": [],
   "source": [
    "#Answer 2\n",
    "\n",
    "\"\\t\" is a tab, \"\\n\" is a newline"
   ]
  },
  {
   "cell_type": "code",
   "execution_count": null,
   "id": "a51b3e58",
   "metadata": {},
   "outputs": [],
   "source": [
    "#Answer 3\n",
    "\n",
    "to use back slash we have to use two backslashes"
   ]
  },
  {
   "cell_type": "code",
   "execution_count": 4,
   "id": "c22cfc7f",
   "metadata": {},
   "outputs": [
    {
     "name": "stdout",
     "output_type": "stream",
     "text": [
      "example of backslash \\ in a line\n"
     ]
    }
   ],
   "source": [
    "#example.\n",
    "\n",
    "print('example of backslash \\\\ in a line')"
   ]
  },
  {
   "cell_type": "code",
   "execution_count": null,
   "id": "367cfd8a",
   "metadata": {},
   "outputs": [],
   "source": [
    "#Answer 4\n",
    "\n",
    "The single quote in Howl's is fine because we have used double quotes to mark the beginning and end of the string. \n",
    "like wise we can use double quotes in with single quotes."
   ]
  },
  {
   "cell_type": "code",
   "execution_count": null,
   "id": "e5a97c4e",
   "metadata": {},
   "outputs": [],
   "source": [
    "#Answer 5\n",
    "\n",
    "print(\"printing something in new line\",end = '\\n')\n",
    "print(\"newline\")"
   ]
  },
  {
   "cell_type": "code",
   "execution_count": null,
   "id": "d0f7252f",
   "metadata": {},
   "outputs": [],
   "source": [
    "#Answer 6\n",
    "\n",
    "'e'\n",
    "'Hello'\n",
    "'Hello'\n",
    "'lo, world!'"
   ]
  },
  {
   "cell_type": "code",
   "execution_count": null,
   "id": "0e9795b9",
   "metadata": {},
   "outputs": [],
   "source": [
    "#Answer 7\n",
    "\n",
    "'HELLO'\n",
    "True\n",
    "'hello'"
   ]
  },
  {
   "cell_type": "code",
   "execution_count": 22,
   "id": "cd6d02d7",
   "metadata": {},
   "outputs": [
    {
     "data": {
      "text/plain": [
       "['Remember,', 'remember,', 'the', 'fifth', 'of', 'July.']"
      ]
     },
     "execution_count": 22,
     "metadata": {},
     "output_type": "execute_result"
    }
   ],
   "source": [
    "#Answer 8\n",
    "\n",
    "'Remember, remember, the fifth of July.'.split()"
   ]
  },
  {
   "cell_type": "code",
   "execution_count": 23,
   "id": "140bf49d",
   "metadata": {},
   "outputs": [
    {
     "data": {
      "text/plain": [
       "'There-can-only-one.'"
      ]
     },
     "execution_count": 23,
     "metadata": {},
     "output_type": "execute_result"
    }
   ],
   "source": [
    "'-'.join('There can only one.'.split())"
   ]
  },
  {
   "cell_type": "code",
   "execution_count": 32,
   "id": "9d7da29f",
   "metadata": {},
   "outputs": [
    {
     "data": {
      "text/plain": [
       "'iNeuron-------------'"
      ]
     },
     "execution_count": 32,
     "metadata": {},
     "output_type": "execute_result"
    }
   ],
   "source": [
    "#Answer 9\n",
    "\n",
    "# left justified\n",
    "str =\"iNeuron\"\n",
    "str.ljust(20,\"-\")"
   ]
  },
  {
   "cell_type": "code",
   "execution_count": 31,
   "id": "2481b087",
   "metadata": {},
   "outputs": [
    {
     "data": {
      "text/plain": [
       "'*************iNeuron'"
      ]
     },
     "execution_count": 31,
     "metadata": {},
     "output_type": "execute_result"
    }
   ],
   "source": [
    "# right justified\n",
    "str =\"iNeuron\"\n",
    "str.rjust(20,'*')"
   ]
  },
  {
   "cell_type": "code",
   "execution_count": 33,
   "id": "bfc13aaf",
   "metadata": {},
   "outputs": [
    {
     "data": {
      "text/plain": [
       "'@@@@@@iNeuron@@@@@@@'"
      ]
     },
     "execution_count": 33,
     "metadata": {},
     "output_type": "execute_result"
    }
   ],
   "source": [
    "# center justified\n",
    "str =\"iNeuron\"\n",
    "str.center(20,'@')"
   ]
  },
  {
   "cell_type": "code",
   "execution_count": 34,
   "id": "e4280aed",
   "metadata": {},
   "outputs": [
    {
     "data": {
      "text/plain": [
       "'iNeuron  '"
      ]
     },
     "execution_count": 34,
     "metadata": {},
     "output_type": "execute_result"
    }
   ],
   "source": [
    "#Answer 10\n",
    "\n",
    "#to remove whitespace characters from the start we can lstrip() method\n",
    "str =\"  iNeuron  \"\n",
    "str.lstrip()"
   ]
  },
  {
   "cell_type": "code",
   "execution_count": 35,
   "id": "1ddf6c99",
   "metadata": {},
   "outputs": [
    {
     "data": {
      "text/plain": [
       "'  iNeuron'"
      ]
     },
     "execution_count": 35,
     "metadata": {},
     "output_type": "execute_result"
    }
   ],
   "source": [
    "#to remove whitespace characters from the end we can rstrip() method\n",
    "str =\"  iNeuron  \"\n",
    "str.rstrip()"
   ]
  },
  {
   "cell_type": "code",
   "execution_count": null,
   "id": "fda916ab",
   "metadata": {},
   "outputs": [],
   "source": []
  },
  {
   "cell_type": "code",
   "execution_count": null,
   "id": "7878f1ea",
   "metadata": {},
   "outputs": [],
   "source": []
  },
  {
   "cell_type": "code",
   "execution_count": null,
   "id": "d4b43590",
   "metadata": {},
   "outputs": [],
   "source": []
  }
 ],
 "metadata": {
  "kernelspec": {
   "display_name": "Python 3 (ipykernel)",
   "language": "python",
   "name": "python3"
  },
  "language_info": {
   "codemirror_mode": {
    "name": "ipython",
    "version": 3
   },
   "file_extension": ".py",
   "mimetype": "text/x-python",
   "name": "python",
   "nbconvert_exporter": "python",
   "pygments_lexer": "ipython3",
   "version": "3.10.4"
  }
 },
 "nbformat": 4,
 "nbformat_minor": 5
}
