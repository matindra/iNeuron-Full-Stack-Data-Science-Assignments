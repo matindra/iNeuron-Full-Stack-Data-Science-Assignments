{
 "cells": [
  {
   "cell_type": "markdown",
   "id": "b713a82b",
   "metadata": {},
   "source": [
    "Python Basic Assignment 11\n",
    "\n",
    "Questions:\n",
    "    \n",
    "1. Create an assert statement that throws an AssertionError if the variable spam\n",
    "is a negative integer.\n",
    "2. Write an assert statement that triggers an AssertionError if the variables eggs\n",
    "and bacon contain strings that are the same as each other, even if their cases\n",
    "are different (that is, 'hello' and 'hello' are considered the same, and 'goodbye'\n",
    "and 'GOODbye' are also considered the same).\n",
    "3. Create an assert statement that throws an AssertionError every time.\n",
    "4. What are the two lines that must be present in your software in order to call logging.debug()?\n",
    "5. What are the two lines that your program must have in order to have \n",
    "logging.debug() send a logging message to a file named programLog.txt?\n",
    "6. What are the five levels of logging?\n",
    "7. What line of code would you add to your software to disable all logging messages?\n",
    "8. Why is using logging messages better than using print() to display the same message?\n",
    "9. What are the differences between the Step Over, Step In, and Step Out buttons in the debugger?\n",
    "10. After you click Continue, when will the debugger stop?\n",
    "11. What is the concept of a breakpoint?"
   ]
  },
  {
   "cell_type": "code",
   "execution_count": 8,
   "id": "abc7fb32",
   "metadata": {},
   "outputs": [
    {
     "ename": "AssertionError",
     "evalue": "The spam variable is a negative integer.",
     "output_type": "error",
     "traceback": [
      "\u001b[0;31m---------------------------------------------------------------------------\u001b[0m",
      "\u001b[0;31mAssertionError\u001b[0m                            Traceback (most recent call last)",
      "\u001b[0;32m/tmp/ipykernel_19504/3391599815.py\u001b[0m in \u001b[0;36m<module>\u001b[0;34m\u001b[0m\n\u001b[1;32m      2\u001b[0m \u001b[0;34m\u001b[0m\u001b[0m\n\u001b[1;32m      3\u001b[0m \u001b[0mspam\u001b[0m \u001b[0;34m=\u001b[0m \u001b[0;34m-\u001b[0m\u001b[0;36m1\u001b[0m\u001b[0;34m\u001b[0m\u001b[0;34m\u001b[0m\u001b[0m\n\u001b[0;32m----> 4\u001b[0;31m \u001b[0;32massert\u001b[0m \u001b[0mspam\u001b[0m \u001b[0;34m>\u001b[0m \u001b[0;36m0\u001b[0m\u001b[0;34m,\u001b[0m \u001b[0;34m'The spam variable is a negative integer.'\u001b[0m\u001b[0;34m\u001b[0m\u001b[0;34m\u001b[0m\u001b[0m\n\u001b[0m",
      "\u001b[0;31mAssertionError\u001b[0m: The spam variable is a negative integer."
     ]
    }
   ],
   "source": [
    "#Answer 1\n",
    "\n",
    "spam = -1\n",
    "assert spam > 0, 'The spam variable is a negative integer.'"
   ]
  },
  {
   "cell_type": "code",
   "execution_count": 19,
   "id": "2f534f3c",
   "metadata": {},
   "outputs": [
    {
     "ename": "AssertionError",
     "evalue": "The eggs and bacon variables are the same!",
     "output_type": "error",
     "traceback": [
      "\u001b[0;31m---------------------------------------------------------------------------\u001b[0m",
      "\u001b[0;31mAssertionError\u001b[0m                            Traceback (most recent call last)",
      "\u001b[0;32m/tmp/ipykernel_19504/498791930.py\u001b[0m in \u001b[0;36m<module>\u001b[0;34m\u001b[0m\n\u001b[1;32m      4\u001b[0m \u001b[0mbacon\u001b[0m \u001b[0;34m=\u001b[0m\u001b[0;34m'GOODbye'\u001b[0m\u001b[0;34m\u001b[0m\u001b[0;34m\u001b[0m\u001b[0m\n\u001b[1;32m      5\u001b[0m \u001b[0;34m\u001b[0m\u001b[0m\n\u001b[0;32m----> 6\u001b[0;31m \u001b[0;32massert\u001b[0m \u001b[0meggs\u001b[0m\u001b[0;34m.\u001b[0m\u001b[0mlower\u001b[0m\u001b[0;34m(\u001b[0m\u001b[0;34m)\u001b[0m \u001b[0;34m!=\u001b[0m \u001b[0mbacon\u001b[0m\u001b[0;34m.\u001b[0m\u001b[0mlower\u001b[0m\u001b[0;34m(\u001b[0m\u001b[0;34m)\u001b[0m\u001b[0;34m,\u001b[0m \u001b[0;34m'The eggs and bacon variables are the same!'\u001b[0m\u001b[0;34m\u001b[0m\u001b[0;34m\u001b[0m\u001b[0m\n\u001b[0m",
      "\u001b[0;31mAssertionError\u001b[0m: The eggs and bacon variables are the same!"
     ]
    }
   ],
   "source": [
    "# Answer 2\n",
    "\n",
    "eggs='goodbye'\n",
    "bacon ='GOODbye'\n",
    "\n",
    "assert eggs.lower() != bacon.lower(), 'The eggs and bacon variables are the same!'"
   ]
  },
  {
   "cell_type": "code",
   "execution_count": 22,
   "id": "11aae998",
   "metadata": {},
   "outputs": [
    {
     "ename": "AssertionError",
     "evalue": "This assertion always triggers.",
     "output_type": "error",
     "traceback": [
      "\u001b[0;31m---------------------------------------------------------------------------\u001b[0m",
      "\u001b[0;31mAssertionError\u001b[0m                            Traceback (most recent call last)",
      "\u001b[0;32m/tmp/ipykernel_19504/3379909213.py\u001b[0m in \u001b[0;36m<module>\u001b[0;34m\u001b[0m\n\u001b[1;32m      1\u001b[0m \u001b[0;31m# Answer 3\u001b[0m\u001b[0;34m\u001b[0m\u001b[0;34m\u001b[0m\u001b[0m\n\u001b[1;32m      2\u001b[0m \u001b[0;34m\u001b[0m\u001b[0m\n\u001b[0;32m----> 3\u001b[0;31m \u001b[0;32massert\u001b[0m \u001b[0;32mFalse\u001b[0m\u001b[0;34m,\u001b[0m \u001b[0;34m'This assertion always triggers.'\u001b[0m\u001b[0;34m\u001b[0m\u001b[0;34m\u001b[0m\u001b[0m\n\u001b[0m",
      "\u001b[0;31mAssertionError\u001b[0m: This assertion always triggers."
     ]
    }
   ],
   "source": [
    "# Answer 3\n",
    "\n",
    "assert False, 'This assertion always triggers.'"
   ]
  },
  {
   "cell_type": "code",
   "execution_count": null,
   "id": "cff3b810",
   "metadata": {},
   "outputs": [],
   "source": [
    "# Answer 4\n",
    "\n",
    "import logging as lg\n",
    "lg.basicConfig(level=lg.DEBUG, format=' %(asctime)s - %(levelname)s - %(message)s')"
   ]
  },
  {
   "cell_type": "code",
   "execution_count": null,
   "id": "1e5a5323",
   "metadata": {},
   "outputs": [],
   "source": [
    "# Answer 5\n",
    "\n",
    "import logging as lg\n",
    "lg.basicConfig(filename='programLog.txt', level=lg.DEBUG, format=' %(asctime)s - %(levelname)s - %(message)s')"
   ]
  },
  {
   "cell_type": "markdown",
   "id": "4cc1657b",
   "metadata": {},
   "source": [
    "=> Answer 6\n",
    "\n",
    "Five level of loggins are DEBUG, INFO, WARNING, ERROR, and CRITICAL\n",
    "\n",
    "logging.debug() - variable's state and small details\n",
    "\n",
    "logging.info() - general events, confirm a program is working\n",
    "\n",
    "logging.warning() - potiental problem to work on in the future\n",
    "\n",
    "logging.error() - record an error that caused program to fail to do something\n",
    "\n",
    "logging.critical() - fatal error that has caused"
   ]
  },
  {
   "cell_type": "code",
   "execution_count": null,
   "id": "712bbbe4",
   "metadata": {},
   "outputs": [],
   "source": [
    "# Answer 7\n",
    "\n",
    "import logging as lg\n",
    "lg.disable(lg.CRITICAL)"
   ]
  },
  {
   "cell_type": "markdown",
   "id": "1a14b667",
   "metadata": {},
   "source": [
    "> Answer 8\n",
    "\n",
    "*   You can disable logging messages without removing the logging function calls. \n",
    "\n",
    "*   You can selectively disable lower-level logging messages.\n",
    "*   You can create logging messages. Logging messages provides a timestamp."
   ]
  },
  {
   "cell_type": "markdown",
   "id": "9fb913b1",
   "metadata": {},
   "source": [
    "> Answer 9\n",
    "\n",
    "\n",
    "\n",
    "*   The Step in button will move the debugger into a function call. \n",
    "*   The Step Over button will quickly execute the function call without stepping into it. \n",
    "\n",
    "\n",
    "*   The Step Out button will quickly execute the rest of the code until it steps out of the function it currently is in.\n"
   ]
  },
  {
   "cell_type": "markdown",
   "id": "a3a3999e",
   "metadata": {},
   "source": [
    ">Answer 10\n",
    "\n",
    "*  After clicking Continue, the debugger will stops at next breakpoint,\n",
    "if there are no further breakpoints program will be fully executed.\n"
   ]
  },
  {
   "cell_type": "markdown",
   "id": "c2d05628",
   "metadata": {},
   "source": [
    ">Answer 11\n",
    "\n",
    "*  A breakpoint is an intentional stopping point or pause put into a program for debugging purposes. "
   ]
  },
  {
   "cell_type": "markdown",
   "id": "80b98e3c",
   "metadata": {},
   "source": []
  }
 ],
 "metadata": {
  "kernelspec": {
   "display_name": "Python 3 (ipykernel)",
   "language": "python",
   "name": "python3"
  },
  "language_info": {
   "codemirror_mode": {
    "name": "ipython",
    "version": 3
   },
   "file_extension": ".py",
   "mimetype": "text/x-python",
   "name": "python",
   "nbconvert_exporter": "python",
   "pygments_lexer": "ipython3",
   "version": "3.10.4"
  }
 },
 "nbformat": 4,
 "nbformat_minor": 5
}
