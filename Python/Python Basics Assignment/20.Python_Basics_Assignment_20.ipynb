{
 "cells": [
  {
   "cell_type": "markdown",
   "id": "4dc394a8",
   "metadata": {},
   "source": [
    "#### Python Basic Assignment 20 Solution"
   ]
  },
  {
   "cell_type": "markdown",
   "id": "935fb9e4",
   "metadata": {},
   "source": [
    "#### Q 1. Set the variable test1 to the string 'This is a test of the emergency text system,' and save test1 to a file named test.txt."
   ]
  },
  {
   "cell_type": "code",
   "execution_count": 1,
   "id": "9146121b",
   "metadata": {},
   "outputs": [
    {
     "name": "stdout",
     "output_type": "stream",
     "text": [
      "This is a test of the emergency text system,\n"
     ]
    }
   ],
   "source": [
    "#Ans\n",
    "\n",
    "test1 = 'This is a test of the emergency text system,'\n",
    "\n",
    "print(test1)\n",
    "with open('test.txt','w') as file:\n",
    "    file.write(test1)\n",
    "    file.close()"
   ]
  },
  {
   "cell_type": "markdown",
   "id": "6c47fa50",
   "metadata": {},
   "source": [
    "#### Q 2. Read the contents of the file test.txt into the variable test2. Is there a difference between test 1 and test 2?"
   ]
  },
  {
   "cell_type": "code",
   "execution_count": 2,
   "id": "8d47f03a",
   "metadata": {},
   "outputs": [
    {
     "name": "stdout",
     "output_type": "stream",
     "text": [
      "This is a test of the emergency text system,\n",
      "\n",
      "test1 and test2 is same : True\n"
     ]
    }
   ],
   "source": [
    "#Ans\n",
    "\n",
    "with open('test.txt','r') as f:\n",
    "    test2 = f.read()\n",
    "    \n",
    "print(test2)\n",
    "\n",
    "print(\"\\ntest1 and test2 is same :\", test1==test2)"
   ]
  },
  {
   "cell_type": "markdown",
   "id": "78b38569",
   "metadata": {},
   "source": [
    "#### Q 3. Create a CSV file called books.csv by using these lines:\n",
    "\n",
    "`title,author,year`  \n",
    "`The Weirdstone of Brisingamen,Alan Garner,1960`  \n",
    "`Perdido Street Station,China Miéville,2000`  \n",
    "`Thud!,Terry Pratchett,2005`  \n",
    "`The Spellman Files,Lisa Lutz,2007`  \n",
    "`Small Gods,Terry Pratchett,1992`"
   ]
  },
  {
   "cell_type": "code",
   "execution_count": 3,
   "id": "f3ed45d6",
   "metadata": {},
   "outputs": [],
   "source": [
    "#Ans\n",
    "\n",
    "data = '''title,author,year\n",
    "The Weirdstone of Brisingamen,Alan Garner,1960\n",
    "Perdido Street Station,China Miéville,2000\n",
    "Thud!,Terry Pratchett,2005\n",
    "The Spellman Files,Lisa Lutz,2007\n",
    "Small Gods,Terry Pratchett,1992'''\n",
    "\n",
    "with open('books.csv','w') as file:\n",
    "    file.write(data)\n",
    "    file.close()"
   ]
  },
  {
   "cell_type": "markdown",
   "id": "56aa38bb",
   "metadata": {},
   "source": [
    "#### Q 4. Use the sqlite3 module to create a SQLite database called books.db, and a table called books with these fields: title (text), author (text), and year (integer)."
   ]
  },
  {
   "cell_type": "code",
   "execution_count": 4,
   "id": "e3fda1ca",
   "metadata": {},
   "outputs": [],
   "source": [
    "#Ans\n",
    "\n",
    "import sqlite3\n",
    "conn = sqlite3.connect('books.db') # Connection is Created\n",
    "cur = conn.cursor()\n",
    "\n",
    "cur.execute(\"CREATE TABLE books(title varchar(20),author varchar(20), year int)\") #Table Created in database\n",
    "conn.commit()\n",
    "conn.close()"
   ]
  },
  {
   "cell_type": "markdown",
   "id": "721b9f55",
   "metadata": {},
   "source": [
    "#### Q 5. Read books.csv and insert its data into the books table."
   ]
  },
  {
   "cell_type": "code",
   "execution_count": 5,
   "id": "b9055791",
   "metadata": {},
   "outputs": [
    {
     "name": "stdout",
     "output_type": "stream",
     "text": [
      "Connection Established.\n",
      "Sucessfully inserted\n"
     ]
    }
   ],
   "source": [
    "#Ans \n",
    "\n",
    "import csv\n",
    "import sqlite3\n",
    "conn = sqlite3.connect(\"books.db\")  # connection has been created\n",
    "print(\"Connection Established.\")\n",
    "try:\n",
    "    with open('books.csv', 'rt') as f:\n",
    "        books = csv.DictReader(f)\n",
    "        \n",
    "        for book in books:\n",
    "            query = f\"INSERT INTO books VALUES ('{book['title']}','{book['author']}',{book['year']})\"\n",
    "            cur = conn.cursor()\n",
    "            cur.execute(query)\n",
    "            conn.commit()    \n",
    "    conn.close()\n",
    "    print(\"Sucessfully inserted\")\n",
    "except Exception as e:\n",
    "    print(e)"
   ]
  },
  {
   "cell_type": "markdown",
   "id": "8cb59558",
   "metadata": {},
   "source": [
    "#### Q 6. Select and print the title column from the book table in alphabetical order."
   ]
  },
  {
   "cell_type": "code",
   "execution_count": 6,
   "id": "0bb2064a",
   "metadata": {},
   "outputs": [
    {
     "name": "stdout",
     "output_type": "stream",
     "text": [
      "Perdido Street Station\n",
      "Small Gods\n",
      "The Spellman Files\n",
      "The Weirdstone of Brisingamen\n",
      "Thud!\n"
     ]
    }
   ],
   "source": [
    "#Ans\n",
    "\n",
    "import sqlite3\n",
    "conn = sqlite3.connect('books.db')\n",
    "cur = conn.cursor()\n",
    "output = cur.execute(\"SELECT title FROM books ORDER BY title ASC\")\n",
    "\n",
    "for i in output:\n",
    "    print(i[0])\n",
    "conn.commit()\n",
    "conn.close()"
   ]
  },
  {
   "cell_type": "markdown",
   "id": "f7576512",
   "metadata": {},
   "source": [
    "#### Q 7. From the book table, select and print all columns in the order of publication."
   ]
  },
  {
   "cell_type": "code",
   "execution_count": 7,
   "id": "43cbfee3",
   "metadata": {
    "scrolled": true
   },
   "outputs": [
    {
     "name": "stdout",
     "output_type": "stream",
     "text": [
      "('The Weirdstone of Brisingamen', 'Alan Garner', 1960)\n",
      "('Small Gods', 'Terry Pratchett', 1992)\n",
      "('Perdido Street Station', 'China Miéville', 2000)\n",
      "('Thud!', 'Terry Pratchett', 2005)\n",
      "('The Spellman Files', 'Lisa Lutz', 2007)\n"
     ]
    }
   ],
   "source": [
    "#Ans\n",
    "\n",
    "#Method 1\n",
    "import sqlite3\n",
    "conn = sqlite3.connect('books.db')\n",
    "cur = conn.cursor()\n",
    "ouput = cur.execute(\"SELECT * FROM books ORDER BY year\")\n",
    "\n",
    "for record in ouput:\n",
    "    print(record)"
   ]
  },
  {
   "cell_type": "markdown",
   "id": "6e304897",
   "metadata": {},
   "source": [
    "#### Q 8. Use the sqlalchemy module to connect to the sqlite3 database books.db that you just made in exercise 6."
   ]
  },
  {
   "cell_type": "code",
   "execution_count": 8,
   "id": "5d48a16f",
   "metadata": {},
   "outputs": [
    {
     "name": "stdout",
     "output_type": "stream",
     "text": [
      "Perdido Street Station\n",
      "Small Gods\n",
      "The Spellman Files\n",
      "The Weirdstone of Brisingamen\n",
      "Thud!\n"
     ]
    }
   ],
   "source": [
    "#Ans\n",
    "\n",
    "import sqlalchemy\n",
    "conn = sqlalchemy.create_engine('sqlite:///books.db')\n",
    "    \n",
    "query = 'SELECT title FROM books ORDER BY title ASC' \n",
    "for row in conn.execute(query):\n",
    "    print(row[0])"
   ]
  },
  {
   "cell_type": "markdown",
   "id": "09bcf463",
   "metadata": {},
   "source": [
    "#### Q 9. Install the Redis server and the Python redis library (pip install redis) on your computer. Create a Redis hash called test with the fields count (1) and name ('Fester Bestertester'). Print all the fields for test."
   ]
  },
  {
   "cell_type": "code",
   "execution_count": 9,
   "id": "e01cb4f6",
   "metadata": {},
   "outputs": [
    {
     "name": "stdout",
     "output_type": "stream",
     "text": [
      "Defaulting to user installation because normal site-packages is not writeable\n",
      "Requirement already satisfied: redis in /home/lipu/.local/lib/python3.10/site-packages (4.5.4)\n",
      "Requirement already satisfied: async-timeout>=4.0.2 in /home/lipu/.local/lib/python3.10/site-packages (from redis) (4.0.2)\n"
     ]
    }
   ],
   "source": [
    "#Ans\n",
    "\n",
    "!pip install redis"
   ]
  },
  {
   "cell_type": "code",
   "execution_count": 15,
   "id": "a3399435",
   "metadata": {},
   "outputs": [
    {
     "name": "stderr",
     "output_type": "stream",
     "text": [
      "/tmp/ipykernel_43654/19521559.py:4: DeprecationWarning: Redis.hmset() is deprecated. Use Redis.hset() instead.\n",
      "  conn.hmset('test', {'count': 1, 'name': 'Fester Bestertester'})\n"
     ]
    },
    {
     "data": {
      "text/plain": [
       "{b'count': b'1', b'name': b'Fester Bestertester'}"
      ]
     },
     "execution_count": 15,
     "metadata": {},
     "output_type": "execute_result"
    }
   ],
   "source": [
    "import redis\n",
    "conn = redis.Redis()\n",
    "conn.delete('test')\n",
    "conn.hmset('test', {'count': 1, 'name': 'Fester Bestertester'})\n",
    "conn.hgetall('test')"
   ]
  },
  {
   "cell_type": "markdown",
   "id": "592c2b0c",
   "metadata": {},
   "source": [
    "#### Q 10. Increment the count field of test and print it."
   ]
  },
  {
   "cell_type": "code",
   "execution_count": 16,
   "id": "3cd143c2",
   "metadata": {},
   "outputs": [
    {
     "data": {
      "text/plain": [
       "b'4'"
      ]
     },
     "execution_count": 16,
     "metadata": {},
     "output_type": "execute_result"
    }
   ],
   "source": [
    "#Ans\n",
    "\n",
    "conn.hincrby('test', 'count', 3)\n",
    "conn.hget('test', 'count')"
   ]
  },
  {
   "cell_type": "code",
   "execution_count": null,
   "id": "4b11f142",
   "metadata": {},
   "outputs": [],
   "source": []
  }
 ],
 "metadata": {
  "kernelspec": {
   "display_name": "Python 3 (ipykernel)",
   "language": "python",
   "name": "python3"
  },
  "language_info": {
   "codemirror_mode": {
    "name": "ipython",
    "version": 3
   },
   "file_extension": ".py",
   "mimetype": "text/x-python",
   "name": "python",
   "nbconvert_exporter": "python",
   "pygments_lexer": "ipython3",
   "version": "3.10.6"
  }
 },
 "nbformat": 4,
 "nbformat_minor": 5
}
