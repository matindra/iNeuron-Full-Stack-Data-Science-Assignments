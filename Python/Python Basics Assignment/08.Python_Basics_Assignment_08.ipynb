{
 "cells": [
  {
   "cell_type": "code",
   "execution_count": null,
   "id": "abc7fb32",
   "metadata": {},
   "outputs": [],
   "source": [
    "#Answer 1\n",
    "\n",
    "PyInputPlus is not a part of the Python Standard Library, so you must install it separately using Pip\n"
   ]
  },
  {
   "cell_type": "code",
   "execution_count": null,
   "id": "fda916ab",
   "metadata": {},
   "outputs": [],
   "source": [
    "#Answer 2\n",
    "\n",
    "pypi is alias of PyInputPlus. The as pypi code in the import statement saves us from typing\n",
    "pyinputplus each time we want to call a PyInputPlus function. Instead we can use the shorter pypi name"
   ]
  },
  {
   "cell_type": "code",
   "execution_count": 11,
   "id": "0968d78b",
   "metadata": {},
   "outputs": [],
   "source": [
    "import pyinputplus as pypi"
   ]
  },
  {
   "cell_type": "code",
   "execution_count": null,
   "id": "343515f0",
   "metadata": {},
   "outputs": [],
   "source": [
    "#Answer 3\n",
    "\n",
    "inputInt() : Accepts an integer value, and returns int value\n",
    "inputFloat() : Accepts integer/floating point value and returns float value"
   ]
  },
  {
   "cell_type": "code",
   "execution_count": null,
   "id": "1e0cd9e6",
   "metadata": {},
   "outputs": [],
   "source": []
  },
  {
   "cell_type": "code",
   "execution_count": null,
   "id": "af5ee0a4",
   "metadata": {},
   "outputs": [],
   "source": [
    "#Answer 4\n",
    "\n",
    "pyip.inputInt(min = 0, max =99)"
   ]
  },
  {
   "cell_type": "code",
   "execution_count": 12,
   "id": "cdc4c36a",
   "metadata": {},
   "outputs": [],
   "source": [
    "#Answer 5\n",
    "\n",
    "We can also use regular expressions to specify whether an input is allowed or not.\n",
    "The allowRegexes and blockRegexes keyword arguments take a list of regular expression\n",
    "strings to determine what the PyInputPlus function will accept or reject as valid input."
   ]
  },
  {
   "cell_type": "code",
   "execution_count": null,
   "id": "bdef78bc",
   "metadata": {},
   "outputs": [],
   "source": [
    "#Answer 6\n",
    "\n",
    "It will throw RetryLimitException exception."
   ]
  },
  {
   "cell_type": "code",
   "execution_count": 14,
   "id": "37d4c1a7",
   "metadata": {},
   "outputs": [
    {
     "name": "stdout",
     "output_type": "stream",
     "text": [
      "\n",
      "Blank values are not allowed.\n",
      "\n",
      "Blank values are not allowed.\n",
      "\n",
      "Blank values are not allowed.\n"
     ]
    },
    {
     "data": {
      "text/plain": [
       "'hello'"
      ]
     },
     "execution_count": 14,
     "metadata": {},
     "output_type": "execute_result"
    }
   ],
   "source": [
    "#Answer 7\n",
    "\n",
    "response = pypi.inputStr(limit=3,default='hello')\n",
    "response"
   ]
  },
  {
   "cell_type": "code",
   "execution_count": null,
   "id": "677b912d",
   "metadata": {},
   "outputs": [],
   "source": []
  },
  {
   "cell_type": "code",
   "execution_count": null,
   "id": "d361be18",
   "metadata": {},
   "outputs": [],
   "source": []
  }
 ],
 "metadata": {
  "kernelspec": {
   "display_name": "Python 3 (ipykernel)",
   "language": "python",
   "name": "python3"
  },
  "language_info": {
   "codemirror_mode": {
    "name": "ipython",
    "version": 3
   },
   "file_extension": ".py",
   "mimetype": "text/x-python",
   "name": "python",
   "nbconvert_exporter": "python",
   "pygments_lexer": "ipython3",
   "version": "3.10.4"
  }
 },
 "nbformat": 4,
 "nbformat_minor": 5
}
