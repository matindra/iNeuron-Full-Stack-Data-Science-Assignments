{
 "cells": [
  {
   "cell_type": "code",
   "execution_count": null,
   "id": "abc7fb32",
   "metadata": {},
   "outputs": [],
   "source": [
    "#Answer 1\n",
    "\n",
    "Python has a built-in package called re, which can be used to work with Regular Expressions after importing it.\n",
    "\n",
    "The re.compile() function returns Regex objects."
   ]
  },
  {
   "cell_type": "code",
   "execution_count": null,
   "id": "fda916ab",
   "metadata": {},
   "outputs": [],
   "source": [
    "#Answer 2\n",
    "\n",
    "Raw strings are used so that backslashes do not have to be escaped"
   ]
  },
  {
   "cell_type": "code",
   "execution_count": null,
   "id": "7878f1ea",
   "metadata": {},
   "outputs": [],
   "source": [
    "#Answer 3\n",
    "\n",
    "The search() method searches a string for a specified value, and returns the position of the match.\n",
    "The search value can be string or a regular expression.\n",
    "This method returns -1 if no match is found."
   ]
  },
  {
   "cell_type": "code",
   "execution_count": null,
   "id": "9820d8db",
   "metadata": {},
   "outputs": [],
   "source": [
    "#Answer 4\n",
    "\n",
    "The group() method returns strings of the matched text."
   ]
  },
  {
   "cell_type": "code",
   "execution_count": 2,
   "id": "4c21f464",
   "metadata": {},
   "outputs": [
    {
     "data": {
      "text/plain": [
       "'345-444-4542'"
      ]
     },
     "execution_count": 2,
     "metadata": {},
     "output_type": "execute_result"
    }
   ],
   "source": [
    "#Answer 5\n",
    "\n",
    "import re\n",
    "\n",
    "phoneNumRegex = re.compile(r'(\\d\\d\\d)-(\\d\\d\\d-\\d\\d\\d\\d)')\n",
    "mo = phoneNumRegex.search('My number is 345-444-4542.')\n",
    "mo.group(0)"
   ]
  },
  {
   "cell_type": "code",
   "execution_count": 4,
   "id": "d4b43590",
   "metadata": {},
   "outputs": [
    {
     "data": {
      "text/plain": [
       "'444-4542'"
      ]
     },
     "execution_count": 4,
     "metadata": {},
     "output_type": "execute_result"
    }
   ],
   "source": [
    "mo.group(2)"
   ]
  },
  {
   "cell_type": "code",
   "execution_count": 5,
   "id": "3b3b1049",
   "metadata": {},
   "outputs": [
    {
     "data": {
      "text/plain": [
       "'345'"
      ]
     },
     "execution_count": 5,
     "metadata": {},
     "output_type": "execute_result"
    }
   ],
   "source": [
    "mo.group(1)"
   ]
  },
  {
   "cell_type": "code",
   "execution_count": null,
   "id": "42b18713",
   "metadata": {},
   "outputs": [],
   "source": [
    "#Answer 6\n",
    "\n",
    "Periods and parentheses can be escaped with a backslash: \\., \\(, and \\)."
   ]
  },
  {
   "cell_type": "code",
   "execution_count": null,
   "id": "d1e6b672",
   "metadata": {},
   "outputs": [],
   "source": [
    "#Answer 7\n",
    "\n",
    "If the regex has no groups, a list of strings is returned.\n",
    "If the regex has groups, a list of tuples of strings is returned."
   ]
  },
  {
   "cell_type": "code",
   "execution_count": null,
   "id": "011bd4d7",
   "metadata": {},
   "outputs": [],
   "source": [
    "#Answer 8\n",
    "\n",
    "The | character signifies matching \"either, or\" between two groups."
   ]
  },
  {
   "cell_type": "code",
   "execution_count": null,
   "id": "6758bb7a",
   "metadata": {},
   "outputs": [],
   "source": [
    "#Answer 9\n",
    "\n",
    "The ? character can either mean “match zero or one of the preceding group”."
   ]
  },
  {
   "cell_type": "code",
   "execution_count": null,
   "id": "20370b0d",
   "metadata": {},
   "outputs": [],
   "source": [
    "#Answer 10\n",
    "\n",
    "The + matches one or more. The * matches zero or more"
   ]
  },
  {
   "cell_type": "code",
   "execution_count": null,
   "id": "d82187e7",
   "metadata": {},
   "outputs": [],
   "source": [
    "#Answer 11\n",
    "\n",
    "The {4} matches exactly three instances of the preceding group.\n",
    "The {4,5} matches between three and five instances."
   ]
  },
  {
   "cell_type": "code",
   "execution_count": null,
   "id": "525a7e1f",
   "metadata": {},
   "outputs": [],
   "source": [
    "#Answer 12\n",
    "\n",
    "\\d, stands for single digit, Any numeric digit from 0 to 9 \n",
    "\\w, stands for single word, Any letter, numeric digit, or the underscore character. (Think of this as matching “word” characters.)\n",
    "\\s stands for single space character, Any space, tab, or newline character. (Think of this as matching “space” characters.)"
   ]
  },
  {
   "cell_type": "code",
   "execution_count": null,
   "id": "de1dcbe8",
   "metadata": {},
   "outputs": [],
   "source": [
    "#Answer 13\n",
    "\n",
    "\\D - > Any character that is not a numeric digit from 0 to 9.\n",
    "\\W - > Any character that is not a letter, numeric digit, or the underscore character.\n",
    "\\S - > Any character that is not a space, tab, or newline."
   ]
  },
  {
   "cell_type": "code",
   "execution_count": null,
   "id": "258622a5",
   "metadata": {},
   "outputs": [],
   "source": [
    "Q14 - What is the difference between these two: . and .?\n",
    "\n",
    "#Answer 14\n",
    "The . performs a greedy match, and the .? performs a nongreedy match."
   ]
  },
  {
   "cell_type": "code",
   "execution_count": null,
   "id": "63353db9",
   "metadata": {},
   "outputs": [],
   "source": [
    "#Answer 15\n",
    "\n",
    "Either [0-9a-z] or [a-z0-9]"
   ]
  },
  {
   "cell_type": "code",
   "execution_count": null,
   "id": "23ba8fb4",
   "metadata": {},
   "outputs": [],
   "source": [
    "#Answer 16\n",
    "\n",
    "Passing re.I or re.IGNORECASE as the second argument to re.compile() will make the matching case insensitive"
   ]
  },
  {
   "cell_type": "code",
   "execution_count": null,
   "id": "075bc0bc",
   "metadata": {},
   "outputs": [],
   "source": [
    "#Answer 17\n",
    "\n",
    "The . character normally matches any character except the newline character.\n",
    "If re.DOTALL is passed as the second argument to re.compile(),\n",
    "then the dot will also match newline characters."
   ]
  },
  {
   "cell_type": "code",
   "execution_count": 3,
   "id": "8d76daa8",
   "metadata": {},
   "outputs": [
    {
     "data": {
      "text/plain": [
       "'X drummers, X pipers, five rings, X hen'"
      ]
     },
     "execution_count": 3,
     "metadata": {},
     "output_type": "execute_result"
    }
   ],
   "source": [
    "#Answer 18\n",
    "\n",
    "numRegex = re.compile(r'\\d+')\n",
    "mo = numRegex.sub('X', '11 drummers, 10 pipers, five rings, 4 hen')\n",
    "mo"
   ]
  },
  {
   "cell_type": "code",
   "execution_count": null,
   "id": "9d341b23",
   "metadata": {},
   "outputs": [],
   "source": [
    "#Answer 19\n",
    "\n",
    "The re.VERBOSE argument allows you to add whitespace and comments to the string passed to re.compile()"
   ]
  },
  {
   "cell_type": "code",
   "execution_count": null,
   "id": "e880f2fe",
   "metadata": {},
   "outputs": [],
   "source": [
    "#Answer 20\n",
    "\n",
    "re.compile(r'^\\d{1,3}(,\\d{3})*$') will create this regex,\n",
    "but other regex strings can produce a similar regular expression."
   ]
  },
  {
   "cell_type": "code",
   "execution_count": null,
   "id": "29afb58d",
   "metadata": {},
   "outputs": [],
   "source": [
    "#Answer 21\n",
    "\n",
    "re.compile(r'[A-Z][a-z]*\\sNakamoto')"
   ]
  },
  {
   "cell_type": "code",
   "execution_count": null,
   "id": "4362166a",
   "metadata": {},
   "outputs": [],
   "source": [
    "#Answer 22\n",
    "\n",
    "re.compile(r'(Alice|Bob|Carol)\\s(eats|pets|throws)\\s(apples|cats|baseballs)\\.', re.IGNORECASE)"
   ]
  },
  {
   "cell_type": "code",
   "execution_count": null,
   "id": "2530bbe8",
   "metadata": {},
   "outputs": [],
   "source": []
  },
  {
   "cell_type": "code",
   "execution_count": null,
   "id": "8ba8293c",
   "metadata": {},
   "outputs": [],
   "source": []
  }
 ],
 "metadata": {
  "kernelspec": {
   "display_name": "Python 3 (ipykernel)",
   "language": "python",
   "name": "python3"
  },
  "language_info": {
   "codemirror_mode": {
    "name": "ipython",
    "version": 3
   },
   "file_extension": ".py",
   "mimetype": "text/x-python",
   "name": "python",
   "nbconvert_exporter": "python",
   "pygments_lexer": "ipython3",
   "version": "3.10.4"
  }
 },
 "nbformat": 4,
 "nbformat_minor": 5
}
