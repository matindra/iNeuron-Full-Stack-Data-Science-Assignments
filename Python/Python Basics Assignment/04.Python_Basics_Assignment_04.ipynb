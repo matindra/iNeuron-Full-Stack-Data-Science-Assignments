{
 "cells": [
  {
   "cell_type": "code",
   "execution_count": null,
   "id": "5ceb9de0",
   "metadata": {},
   "outputs": [],
   "source": [
    "Answer 1\n",
    "\n",
    "It denotes the blank list."
   ]
  },
  {
   "cell_type": "code",
   "execution_count": null,
   "id": "114ae6d7",
   "metadata": {},
   "outputs": [],
   "source": [
    "Answer 2\n",
    "\n",
    "spam[2] = 'hello'"
   ]
  },
  {
   "cell_type": "code",
   "execution_count": 1,
   "id": "cccdfdcf",
   "metadata": {},
   "outputs": [],
   "source": [
    "Answer 3\n",
    "\n",
    "'d' \n",
    "\n",
    "(Expanation : As '3' * 2 is the string '33', which is passed to int() before being divided by 11.\n",
    " This eventually evaluates to 3.)"
   ]
  },
  {
   "cell_type": "code",
   "execution_count": null,
   "id": "c0fd5d31",
   "metadata": {},
   "outputs": [],
   "source": [
    "Answer 4\n",
    "\n",
    "'d' (Negative indexes count from the end.)"
   ]
  },
  {
   "cell_type": "code",
   "execution_count": null,
   "id": "e6b9eddd",
   "metadata": {},
   "outputs": [],
   "source": [
    "Answer 5\n",
    "\n",
    "['a', 'b']"
   ]
  },
  {
   "cell_type": "code",
   "execution_count": null,
   "id": "1a7ffdf6",
   "metadata": {},
   "outputs": [],
   "source": [
    "Answer 6\n",
    "\n",
    "1"
   ]
  },
  {
   "cell_type": "code",
   "execution_count": null,
   "id": "1e410c6d",
   "metadata": {},
   "outputs": [],
   "source": [
    "Answer 7\n",
    "\n",
    "[3.14, 'cat', 11, 'cat', True, 99]\n",
    "\n",
    "While appending, if index position is not mentioned, then vaue is appended to the end of the list."
   ]
  },
  {
   "cell_type": "code",
   "execution_count": null,
   "id": "55a263c6",
   "metadata": {},
   "outputs": [],
   "source": [
    "Answer 8\n",
    "\n",
    "[3.14, 11, 'cat', True]"
   ]
  },
  {
   "cell_type": "code",
   "execution_count": null,
   "id": "2da93b70",
   "metadata": {},
   "outputs": [],
   "source": [
    "Answer 9\n",
    "\n",
    "The operator for list concatenation is +, while the operator for replication is *."
   ]
  },
  {
   "cell_type": "code",
   "execution_count": null,
   "id": "97a75fe3",
   "metadata": {},
   "outputs": [],
   "source": [
    "Answer 10\n",
    "\n",
    "append() method adds the element only at end of the list.\n",
    "where as insert() method allows us to add a specific element at a specified index of the list."
   ]
  },
  {
   "cell_type": "code",
   "execution_count": null,
   "id": "984479c4",
   "metadata": {},
   "outputs": [],
   "source": [
    "Answer 11\n",
    "\n",
    "for removing items from a list we use remove() and pop() method"
   ]
  },
  {
   "cell_type": "code",
   "execution_count": null,
   "id": "ec156644",
   "metadata": {},
   "outputs": [],
   "source": [
    "Answer 12\n",
    "\n",
    "Both lists and strings can be passed to len(), have indexes and slices, be used in for loops,\n",
    "be concatenated or replicated, and be used with the in and not in operators."
   ]
  },
  {
   "cell_type": "code",
   "execution_count": null,
   "id": "c2bbd0ad",
   "metadata": {},
   "outputs": [],
   "source": [
    "Answer 13\n",
    "\n",
    "Lists are mutable; they can have values added, removed, or changed. \n",
    "Tuples are immutable; they cannot be changed at all.\n",
    "Also, tuples are written using parentheses (), while lists use the square brackets []."
   ]
  },
  {
   "cell_type": "code",
   "execution_count": null,
   "id": "594a4c46",
   "metadata": {},
   "outputs": [],
   "source": [
    "Answer 14\n",
    "\n",
    "(42,)"
   ]
  },
  {
   "cell_type": "code",
   "execution_count": null,
   "id": "3f59cb22",
   "metadata": {},
   "outputs": [],
   "source": [
    "Answer 15\n",
    "\n",
    "by using the tuple() and list() functions, respectively."
   ]
  },
  {
   "cell_type": "code",
   "execution_count": null,
   "id": "8841d8f9",
   "metadata": {},
   "outputs": [],
   "source": [
    "Answer 16\n",
    "\n",
    "They contain references to list values"
   ]
  },
  {
   "cell_type": "code",
   "execution_count": null,
   "id": "652e1a7c",
   "metadata": {},
   "outputs": [],
   "source": [
    "Answer 17\n",
    "\n",
    "The copy.copy() function will do a shallow copy of a list,\n",
    "The copy.deepcopy() function will do a deep copy of a list. only copy.deepcopy() will\n",
    "duplicate any lists inside the list"
   ]
  },
  {
   "cell_type": "code",
   "execution_count": null,
   "id": "583f3443",
   "metadata": {},
   "outputs": [],
   "source": []
  }
 ],
 "metadata": {
  "kernelspec": {
   "display_name": "Python 3 (ipykernel)",
   "language": "python",
   "name": "python3"
  },
  "language_info": {
   "codemirror_mode": {
    "name": "ipython",
    "version": 3
   },
   "file_extension": ".py",
   "mimetype": "text/x-python",
   "name": "python",
   "nbconvert_exporter": "python",
   "pygments_lexer": "ipython3",
   "version": "3.10.4"
  }
 },
 "nbformat": 4,
 "nbformat_minor": 5
}
