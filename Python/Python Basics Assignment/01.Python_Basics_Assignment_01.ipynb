{
 "cells": [
  {
   "cell_type": "code",
   "execution_count": null,
   "id": "48e96792",
   "metadata": {},
   "outputs": [],
   "source": [
    "1. In the below elements which of them are values or an expression? eg:- values can be integer or string and expressions will be mathematical operators."
   ]
  },
  {
   "cell_type": "code",
   "execution_count": null,
   "id": "0ee2dc60",
   "metadata": {},
   "outputs": [],
   "source": [
    "Answer\n",
    "\n",
    "* is an expression\n",
    "'hello' is a value\n",
    "-87.8 is a value\n",
    "- is an expression\n",
    "/ is an expression\n",
    "+ is an expression\n",
    "6 is a value"
   ]
  },
  {
   "cell_type": "code",
   "execution_count": null,
   "id": "f65725a1",
   "metadata": {},
   "outputs": [],
   "source": [
    "2. What is the difference between string and variable?"
   ]
  },
  {
   "cell_type": "code",
   "execution_count": null,
   "id": "02beb109",
   "metadata": {},
   "outputs": [],
   "source": [
    "Answer\n",
    "\n",
    "Variables are symbols that we can use to store any data or information like string, integer, float in a program to use it later.\n",
    "ex. var1 = 100, var2 = “hello”\n",
    "\n",
    "where as, string is a data type that is inside single quotes (‘ ’) or double quotes (“ “). Sometimes we can say a string is a value representing text or numbers.\n",
    "ex. '123', \"hello\""
   ]
  },
  {
   "cell_type": "code",
   "execution_count": null,
   "id": "e6b8bddc",
   "metadata": {},
   "outputs": [],
   "source": [
    "3. Describe three different data types."
   ]
  },
  {
   "cell_type": "code",
   "execution_count": null,
   "id": "98f6e56d",
   "metadata": {},
   "outputs": [],
   "source": [
    "Answer\n",
    "\n",
    "1. Numbers - Number data types are used to store numeric values.\n",
    "ex. 1,2,3\n",
    "\n",
    "2. List - Lists are the most versatile data type in Python. \n",
    "   A list contains items separated by commas and enclosed within square brackets []. \n",
    "ex. [1,2,3]\n",
    "\n",
    "3. Dictionary - Dictionary in Python is an unordered collection of data values, \n",
    "   used to store data values like a map, which, unlike other data types that hold only a single value as an element, \n",
    "   Dictionary holds key:value pair. Key-Value is provided in the dictionary to make it more optimised. \n",
    "ex. {1: 'india', 2: 'usa', 3: 'russia'}"
   ]
  },
  {
   "cell_type": "code",
   "execution_count": null,
   "id": "fd3a5ad7",
   "metadata": {},
   "outputs": [],
   "source": [
    "4. What is an expression made up of? What do all expressions do?"
   ]
  },
  {
   "cell_type": "code",
   "execution_count": null,
   "id": "02ae2100",
   "metadata": {},
   "outputs": [],
   "source": [
    "Answer\n",
    "\n",
    "An expression is a combination of operators and operands that is interpreted to produce some other value.\n",
    "ex. 2+3"
   ]
  },
  {
   "cell_type": "code",
   "execution_count": null,
   "id": "ce028f85",
   "metadata": {},
   "outputs": [],
   "source": [
    "5. This assignment statements, like spam = 10. What is the difference between an\n",
    "expression and a statement?"
   ]
  },
  {
   "cell_type": "code",
   "execution_count": null,
   "id": "b44afb56",
   "metadata": {},
   "outputs": [],
   "source": [
    "Statements represent an action or command\n",
    "ex. print(\"hello world\"), x = 1\n",
    "An expression is a statement that returns a value. \n",
    "ex. 5 * 5"
   ]
  },
  {
   "cell_type": "code",
   "execution_count": null,
   "id": "9db46b36",
   "metadata": {},
   "outputs": [],
   "source": [
    "6. After running the following code, what does the variable bacon contain?\n",
    "bacon = 22,\n",
    "bacon + 1"
   ]
  },
  {
   "cell_type": "code",
   "execution_count": null,
   "id": "8e6f11b7",
   "metadata": {},
   "outputs": [],
   "source": [
    "Answer \n",
    "\n",
    "22"
   ]
  },
  {
   "cell_type": "code",
   "execution_count": null,
   "id": "2ae8a029",
   "metadata": {},
   "outputs": [],
   "source": [
    "7. What should the values of the following two terms be?\n",
    "'spam' + 'spamspam'\n",
    "'spam'*3"
   ]
  },
  {
   "cell_type": "code",
   "execution_count": null,
   "id": "43b3c95c",
   "metadata": {},
   "outputs": [],
   "source": [
    "Answer \n",
    "\n",
    "'spamspamspam'\n",
    "'spamspamspam'"
   ]
  },
  {
   "cell_type": "code",
   "execution_count": null,
   "id": "7224cd51",
   "metadata": {},
   "outputs": [],
   "source": [
    "8. Why is eggs a valid variable name while 100 is invalid?"
   ]
  },
  {
   "cell_type": "code",
   "execution_count": null,
   "id": "de14aa1b",
   "metadata": {},
   "outputs": [],
   "source": [
    "Answer\n",
    "Variable names cannot begin with a number."
   ]
  },
  {
   "cell_type": "code",
   "execution_count": null,
   "id": "a88a1f29",
   "metadata": {},
   "outputs": [],
   "source": [
    "9. What three functions can be used to get the integer, floating-point number, or string version of a value?"
   ]
  },
  {
   "cell_type": "code",
   "execution_count": null,
   "id": "b948128b",
   "metadata": {},
   "outputs": [],
   "source": [
    "Answer\n",
    "str(), int(), float()"
   ]
  },
  {
   "cell_type": "code",
   "execution_count": null,
   "id": "692342a8",
   "metadata": {},
   "outputs": [],
   "source": [
    "10. Why does this expression cause an error? How can you fix it?\n",
    "    'I have eaten' + 99 + 'burritos' "
   ]
  },
  {
   "cell_type": "code",
   "execution_count": null,
   "id": "8589dd17",
   "metadata": {},
   "outputs": [],
   "source": [
    "Answer\n",
    "\n",
    "Because 99 is an integer it cannot be concatenated with strings, \n",
    "if we have to concatenate then we have to change the data type of 99 from number to string."
   ]
  }
 ],
 "metadata": {
  "kernelspec": {
   "display_name": "Python 3 (ipykernel)",
   "language": "python",
   "name": "python3"
  },
  "language_info": {
   "codemirror_mode": {
    "name": "ipython",
    "version": 3
   },
   "file_extension": ".py",
   "mimetype": "text/x-python",
   "name": "python",
   "nbconvert_exporter": "python",
   "pygments_lexer": "ipython3",
   "version": "3.10.4"
  }
 },
 "nbformat": 4,
 "nbformat_minor": 5
}
