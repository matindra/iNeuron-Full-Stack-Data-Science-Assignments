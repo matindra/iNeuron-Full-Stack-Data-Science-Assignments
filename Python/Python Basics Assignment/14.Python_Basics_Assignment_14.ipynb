{
 "cells": [
  {
   "cell_type": "markdown",
   "id": "b0186a26",
   "metadata": {},
   "source": [
    " #### Python Basic Assignment Solution 14"
   ]
  },
  {
   "cell_type": "markdown",
   "id": "0660858d",
   "metadata": {},
   "source": [
    "#### Q 1. What does RGBA stand for?\n",
    "\n",
    "**Ans:** \n",
    "*  RGBA stands for red, green, blue, and alpha in the color. Where alpha represents the opacity of colour.\n",
    "*  An RGBA value is a tuple of 4 integers, each ranging from 0 to 255. The four integers correspond \n",
    "to the amount of red, green, blue, and alpha in the color."
   ]
  },
  {
   "cell_type": "markdown",
   "id": "c5f6c328",
   "metadata": {},
   "source": [
    "#### Q 2. From the Pillow module, how do you get the RGBA value of any images?\n",
    "\n",
    "**Ans:** **`ImageColor.getcolor()`** gives rgba value of any image."
   ]
  },
  {
   "cell_type": "code",
   "execution_count": null,
   "id": "30b1b97d",
   "metadata": {},
   "outputs": [],
   "source": [
    "# Example code\n",
    "\n",
    "from PIL import ImageColor\n",
    "ImageColor.getcolor('green', 'RGBA')\n",
    "ImageColor.getcolor('red', 'RGBA')"
   ]
  },
  {
   "cell_type": "markdown",
   "id": "f94100de",
   "metadata": {},
   "source": [
    "#### Q 3. What is a box tuple, and how does it work?\n",
    "**Ans:** A box tuple is a tuple value of four integers: the left-edge x-coordinate, the top-edge y-coordinate,the width, and the height, respectively."
   ]
  },
  {
   "cell_type": "markdown",
   "id": "d373d911",
   "metadata": {},
   "source": [
    "#### Q 4. Use your image and load in notebook then, How can you find out the width and height of an Image object?\n",
    "\n"
   ]
  },
  {
   "cell_type": "code",
   "execution_count": 1,
   "id": "52c48bcf",
   "metadata": {},
   "outputs": [
    {
     "data": {
      "text/plain": [
       "(534, 340)"
      ]
     },
     "execution_count": 1,
     "metadata": {},
     "output_type": "execute_result"
    }
   ],
   "source": [
    "# Ans \n",
    "\n",
    "from PIL import Image\n",
    "myImg = Image.open('pic.jpg')\n",
    "w,h = myImg.size\n",
    "w,h"
   ]
  },
  {
   "cell_type": "markdown",
   "id": "7acfaf9b",
   "metadata": {},
   "source": [
    "#### Q 5. What method would you call to get Image object for a 100×100 image, excluding the lower-left quarter of it?\n",
    "\n",
    "**Ans:** "
   ]
  },
  {
   "cell_type": "code",
   "execution_count": null,
   "id": "1d62f8e5",
   "metadata": {},
   "outputs": [],
   "source": [
    "from PIL import Image\n",
    "image_obj = Image.open('pic.jpg')\n",
    "new_img_obj = img.crop((0,50,50,50))"
   ]
  },
  {
   "cell_type": "markdown",
   "id": "433697e4",
   "metadata": {},
   "source": [
    "#### Q 6. After making changes to an Image object, how could you save it as an image file?\n",
    "\n",
    "**Ans:** By Calling the ```image_obj.save('new_filename.png')``` method of the Image object."
   ]
  },
  {
   "cell_type": "markdown",
   "id": "3c85a340",
   "metadata": {},
   "source": [
    "#### Q 7. What module contains Pillow’s shape-drawing code?\n",
    "\n",
    "**Ans:** The ```ImageDraw``` module contains code to shape-drawing on images."
   ]
  },
  {
   "cell_type": "markdown",
   "id": "e73dc3cc",
   "metadata": {},
   "source": [
    "#### Q 8. Image objects do not have drawing methods. What kind of object does? How do you get this kind of object?\n",
    "**Ans:** ImageDraw objects have shape-drawing methods such as `point()`, `line()`, or `rectangle()`.They are returned by passing the Image object to the `ImageDraw.Draw()` function."
   ]
  },
  {
   "cell_type": "code",
   "execution_count": null,
   "id": "b22ac9ad",
   "metadata": {},
   "outputs": [],
   "source": []
  }
 ],
 "metadata": {
  "kernelspec": {
   "display_name": "Python 3 (ipykernel)",
   "language": "python",
   "name": "python3"
  },
  "language_info": {
   "codemirror_mode": {
    "name": "ipython",
    "version": 3
   },
   "file_extension": ".py",
   "mimetype": "text/x-python",
   "name": "python",
   "nbconvert_exporter": "python",
   "pygments_lexer": "ipython3",
   "version": "3.10.6"
  }
 },
 "nbformat": 4,
 "nbformat_minor": 5
}
