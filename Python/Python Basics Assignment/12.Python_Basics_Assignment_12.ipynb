{
 "cells": [
  {
   "cell_type": "markdown",
   "id": "04366025",
   "metadata": {},
   "source": [
    "#### Q 1. In what modes should the PdfFileReader() and PdfFileWriter() File objects will be opened?\n",
    "**Ans:** For `PdfFileReader()` file objects should be opened in `rb` -> read binary mode, Whereas for `PdfFileWriter()` file objects should be opened in `wb` -> write binary mode."
   ]
  },
  {
   "cell_type": "markdown",
   "id": "6f5c2c46",
   "metadata": {},
   "source": [
    "#### Q 2. From a PdfFileReader object, how do you get a Page object for page 5?\n",
    "**Ans:** `PdfFileReader` class provides a method called `getPage(page_no)` to get a page object."
   ]
  },
  {
   "cell_type": "code",
   "execution_count": null,
   "id": "cde647fe",
   "metadata": {},
   "outputs": [],
   "source": [
    "# Example Code:\n",
    "from PyPDF2 import PdfFileReader\n",
    "pdf_reader = PdfFileReader(file_path)\n",
    "for page in pdf_reader.getNumPages():\n",
    "    pdf_reader.getPage(page)"
   ]
  },
  {
   "cell_type": "markdown",
   "id": "2bb843b9",
   "metadata": {},
   "source": [
    "#### Q 3. What PdfFileReader variable stores the number of pages in the PDF document?\n",
    "**Ans:** `getNumPages()` method of `PdfFileReader` class stores the no pages in a PDF document"
   ]
  },
  {
   "cell_type": "code",
   "execution_count": null,
   "id": "f8f0f829",
   "metadata": {},
   "outputs": [],
   "source": [
    "#Example Code:\n",
    "from PyPDF2 import PdfFileReader\n",
    "pdf_reader = PdfFileReader(file_path)\n",
    "print(pdf_reader.getNumPages()) # Prints the no of pages in a input document"
   ]
  },
  {
   "cell_type": "markdown",
   "id": "489b8092",
   "metadata": {},
   "source": [
    "#### Q 4. If a PdfFileReader object’s PDF is encrypted with the password swordfish, what must you do before you can obtain Page objects from it?\n",
    "**Ans:** Before we obtain the page object, the pdf has to be decrypted by calling `.decrypt('swordfish')`"
   ]
  },
  {
   "cell_type": "markdown",
   "id": "82cb2ece",
   "metadata": {},
   "source": [
    "#### Q 5. What methods do you use to rotate a page?\n",
    "**Ans:** PyPDF2 Package provides 2 methods to rotate a page:\n",
    "1. `rotateClockWise()` -> For Clockwise rotation\n",
    "2. `rotateCounterClockWise()` -> For Counter Clockwise rotation  \n",
    "\n",
    "The PyPDF2 package only allows you to rotate a page in increments of 90 degrees.\n",
    "You will receive an AssertionError otherwise. The degrees to rotate is passed as an integer argument."
   ]
  },
  {
   "cell_type": "markdown",
   "id": "301f538f",
   "metadata": {},
   "source": [
    "#### Q 6. What is the difference between a Run object and a Paragraph object?\n",
    "**Ans:** Difference\n",
    "\n",
    "* Paragraph Object :  A document contains multiple paragraphs. A paragraph begins on a new line and contains multiple \n",
    "runs. \n",
    "The Document object contains a list of Paragraph objects for the paragraphs in the document. (A new paragraph begins \n",
    "whenever the user presses ENTER or RETURN while typing in a Word document.)\n",
    "* Run Objects :\n",
    "Runs are contiguous groups of characters within a paragraph with the same style"
   ]
  },
  {
   "cell_type": "markdown",
   "id": "3e08c6a8",
   "metadata": {},
   "source": [
    "#### Q 7. How do you obtain a list of Paragraph objects for a Document object that’s stored in a variable\n",
    "named doc?\n",
    "\n",
    "**Ans:** \n",
    "\n",
    "`!pip install python-docx\n",
    "import docx\n",
    "doc = docx.Document('abc.docx')\n",
    "doc.paragraphs`\n",
    "\n",
    "#By using doc.paragraphs"
   ]
  },
  {
   "cell_type": "markdown",
   "id": "e3a10367",
   "metadata": {},
   "source": [
    "#### Q 8. What type of object has bold, underline, italic, strike, and outline variables?\n",
    "\n",
    "**Ans:** A Run object has bold, underline,italic,strike and outline variables\n"
   ]
  },
  {
   "cell_type": "markdown",
   "id": "2621fc21",
   "metadata": {},
   "source": [
    "#### Q 9. What is the difference between False, True, and None for the bold variable?\n",
    "\n",
    "**Ans:** \n",
    "`bold = True`  # Style Set to Bold <br>\n",
    "`bold = False` # Style Not Set to Bold<br>\n",
    "`bold = None` # Style is Not Applicable<br>\n"
   ]
  },
  {
   "cell_type": "markdown",
   "id": "314be1c1",
   "metadata": {},
   "source": [
    "#### Q 10. How do you create a Document object for a new Word document?\n",
    "\n",
    "**Ans:**\n",
    "\n",
    "By Calling the `docx.Document()` function."
   ]
  },
  {
   "cell_type": "code",
   "execution_count": null,
   "id": "3f5daf68",
   "metadata": {},
   "outputs": [],
   "source": [
    "# Example Program\n",
    "import docx\n",
    "document = docx.Document()\n",
    "document.add_paragraph(\"Some Example Text\")\n",
    "document.save('abc.docx')"
   ]
  },
  {
   "cell_type": "markdown",
   "id": "ea8284a3",
   "metadata": {},
   "source": [
    "#### Q 11. How do you add a paragraph with the text 'Hello, there!' to a Document object stored in a variable named doc?\n",
    "\n",
    "**Ans:** \n",
    "\n",
    "`import docx`<br>\n",
    "`doc = docx.Document()`<br>\n",
    "`doc.add_paragraph('Hello there!')`<br>\n",
    "`doc.save('abc.docx')`"
   ]
  },
  {
   "cell_type": "markdown",
   "id": "a73c23ff",
   "metadata": {},
   "source": [
    "#### Q 12. What integers represent the levels of headings available in Word documents?\n",
    "\n",
    "**Ans:** \n",
    "\n",
    "Integer from 0 to 4 epresent the levels of headings available in Word documents. <br>\n",
    "The arguments to add_heading() are a string of the heading text and an integer from 0 to 4. <br>\n",
    "The integer 0 makes the heading the Title style, which is used for the top of the document.<br>\n",
    "Integers 1 to 4 are for various heading levels, with 1 being the main heading and 4 the lowest subheading."
   ]
  },
  {
   "cell_type": "code",
   "execution_count": null,
   "id": "fc3b14b9",
   "metadata": {},
   "outputs": [],
   "source": []
  }
 ],
 "metadata": {
  "kernelspec": {
   "display_name": "Python 3 (ipykernel)",
   "language": "python",
   "name": "python3"
  },
  "language_info": {
   "codemirror_mode": {
    "name": "ipython",
    "version": 3
   },
   "file_extension": ".py",
   "mimetype": "text/x-python",
   "name": "python",
   "nbconvert_exporter": "python",
   "pygments_lexer": "ipython3",
   "version": "3.9.13"
  }
 },
 "nbformat": 4,
 "nbformat_minor": 5
}
