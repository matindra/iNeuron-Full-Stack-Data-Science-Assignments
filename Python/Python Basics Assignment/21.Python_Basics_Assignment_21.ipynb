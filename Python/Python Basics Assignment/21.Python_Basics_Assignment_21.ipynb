{
 "cells": [
  {
   "cell_type": "markdown",
   "metadata": {
    "id": "6Nw9DRc2Hern"
   },
   "source": [
    "#### Python Basic Assignment 21 Solution"
   ]
  },
  {
   "cell_type": "markdown",
   "metadata": {
    "id": "X7D5mbcXHi5l"
   },
   "source": [
    "#### Q 1. Add the current date to the text file today.txt as a string."
   ]
  },
  {
   "cell_type": "code",
   "execution_count": 1,
   "metadata": {
    "colab": {
     "base_uri": "https://localhost:8080/",
     "height": 35
    },
    "executionInfo": {
     "elapsed": 399,
     "status": "ok",
     "timestamp": 1627041464886,
     "user": {
      "displayName": "Yuno Clover",
      "photoUrl": "",
      "userId": "14793961318254159012"
     },
     "user_tz": -330
    },
    "id": "U166OAE1HbK8",
    "outputId": "13412dea-c990-4619-934e-624109f9f81a"
   },
   "outputs": [
    {
     "name": "stdout",
     "output_type": "stream",
     "text": [
      "29-05-2023\n"
     ]
    }
   ],
   "source": [
    "# Getting the Current date\n",
    "\n",
    "import datetime \n",
    "\n",
    "current_date = datetime.datetime.now().strftime(\"%d-%m-%Y\")\n",
    "print(current_date)\n",
    "\n",
    "# Exporting to a text file\n",
    "\n",
    "with open('today.txt','w') as file:\n",
    "    file.write(current_date)\n",
    "file.close()"
   ]
  },
  {
   "cell_type": "markdown",
   "metadata": {
    "id": "uj1iKwb0Ic_2"
   },
   "source": [
    "#### Q 2. Read the text file today.txt into the string today_string"
   ]
  },
  {
   "cell_type": "code",
   "execution_count": 2,
   "metadata": {
    "colab": {
     "base_uri": "https://localhost:8080/",
     "height": 35
    },
    "executionInfo": {
     "elapsed": 13,
     "status": "ok",
     "timestamp": 1627041470753,
     "user": {
      "displayName": "Yuno Clover",
      "photoUrl": "",
      "userId": "14793961318254159012"
     },
     "user_tz": -330
    },
    "id": "qXCd1k-gIYiF",
    "outputId": "37ff38dd-29b4-4ecf-94f6-83476eb2c182"
   },
   "outputs": [
    {
     "data": {
      "text/plain": [
       "'29-05-2023'"
      ]
     },
     "execution_count": 2,
     "metadata": {},
     "output_type": "execute_result"
    }
   ],
   "source": [
    "with open('today.txt','r') as file:\n",
    "    today_string = file.read()\n",
    "today_string"
   ]
  },
  {
   "cell_type": "markdown",
   "metadata": {
    "id": "LrIDHGFBIig7"
   },
   "source": [
    "#### Q 3. Parse the date from today_string."
   ]
  },
  {
   "cell_type": "code",
   "execution_count": 3,
   "metadata": {
    "colab": {
     "base_uri": "https://localhost:8080/"
    },
    "executionInfo": {
     "elapsed": 392,
     "status": "ok",
     "timestamp": 1627041473603,
     "user": {
      "displayName": "Yuno Clover",
      "photoUrl": "",
      "userId": "14793961318254159012"
     },
     "user_tz": -330
    },
    "id": "MuwBYzZFIfw7",
    "outputId": "063aa12f-3062-4447-d4c9-82df2d4f6d60"
   },
   "outputs": [
    {
     "data": {
      "text/plain": [
       "datetime.datetime(2023, 5, 29, 0, 0)"
      ]
     },
     "execution_count": 3,
     "metadata": {},
     "output_type": "execute_result"
    }
   ],
   "source": [
    "\n",
    "format = '%d-%m-%Y'\n",
    "datetime.datetime.strptime(today_string,format)"
   ]
  },
  {
   "cell_type": "markdown",
   "metadata": {
    "id": "WxS5ql4HIns3"
   },
   "source": [
    "#### Q 4. List the files in your current directory"
   ]
  },
  {
   "cell_type": "code",
   "execution_count": 4,
   "metadata": {
    "colab": {
     "base_uri": "https://localhost:8080/"
    },
    "executionInfo": {
     "elapsed": 412,
     "status": "ok",
     "timestamp": 1627041476634,
     "user": {
      "displayName": "Yuno Clover",
      "photoUrl": "",
      "userId": "14793961318254159012"
     },
     "user_tz": -330
    },
    "id": "CT1raJTeIk7J",
    "outputId": "4a592015-8e8e-4e72-f247-d5211b0a18ed"
   },
   "outputs": [
    {
     "data": {
      "text/plain": [
       "['19.Python_Basics_Assignment_19.ipynb',\n",
       " '02.Python_Basics_Assignment_02.ipynb',\n",
       " '14.Python_Basics_Assignment_14.ipynb',\n",
       " '13.Python_Basics_Assignment_13.ipynb',\n",
       " '15.Python_Basics_Assignment_15.ipynb',\n",
       " 'pic.jpg',\n",
       " '.ipynb_checkpoints',\n",
       " '21.Python_Basics_Assignment_21.ipynb',\n",
       " '10.Python_Basics_Assignment_10.ipynb',\n",
       " '21.Python_Basics_Assignment_99.ipynb',\n",
       " '08.Python_Basics_Assignment_08.ipynb',\n",
       " '03.Python_Basics_Assignment_03.ipynb',\n",
       " 'test.txt',\n",
       " '18.Python_Basics_Assignment_18',\n",
       " 'today.txt',\n",
       " '20.Python_Basics_Assignment_20.ipynb',\n",
       " '11.Python_Basics_Assignment_11.ipynb',\n",
       " '01.Python_Basics_Assignment_01.ipynb',\n",
       " '04.Python_Basics_Assignment_04.ipynb',\n",
       " '05.Python_Basics_Assignment_05.ipynb',\n",
       " '16.Python_Basics_Assignment_16.ipynb',\n",
       " 'books.csv',\n",
       " 'README.md',\n",
       " '06.Python_Basics_Assignment_06.ipynb',\n",
       " 'books.db',\n",
       " 'SAMPLE 21.Python_Basics_Assignment_21.ipynb',\n",
       " '09.Python_Basics_Assignment_09.ipynb',\n",
       " '12.Python_Basics_Assignment_12.ipynb',\n",
       " '17.Python_Basics_Assignment_17.ipynb',\n",
       " '07.Python_Basics_Assignment_07.ipynb']"
      ]
     },
     "execution_count": 4,
     "metadata": {},
     "output_type": "execute_result"
    }
   ],
   "source": [
    "import os\n",
    "os.listdir('.')"
   ]
  },
  {
   "cell_type": "markdown",
   "metadata": {
    "id": "t_cu3DbGJ2e_"
   },
   "source": [
    "#### Q 5. Use multiprocessing to create three separate processes. Make each one wait a random number of seconds between one and five, print the current time, and then exit."
   ]
  },
  {
   "cell_type": "code",
   "execution_count": 5,
   "metadata": {
    "executionInfo": {
     "elapsed": 8,
     "status": "ok",
     "timestamp": 1627041478767,
     "user": {
      "displayName": "Yuno Clover",
      "photoUrl": "",
      "userId": "14793961318254159012"
     },
     "user_tz": -330
    },
    "id": "Gr2Lds7eJ8A7"
   },
   "outputs": [
    {
     "name": "stdout",
     "output_type": "stream",
     "text": [
      "wait 0.05995394684641242 seconds, current time is 2023-05-29 05:27:37.776105\n",
      "wait 0.29130064053697946 seconds, current time is 2023-05-29 05:27:38.000200\n",
      "wait 0.41311802159771194 seconds, current time is 2023-05-29 05:27:38.126165\n",
      "wait 0.44330917808839176 seconds, current time is 2023-05-29 05:27:38.197723\n"
     ]
    }
   ],
   "source": [
    "import multiprocessing\n",
    "from datetime import datetime\n",
    "from time import sleep\n",
    "\n",
    "def print_sec(seconds):\n",
    "    sleep(seconds)\n",
    "    print('wait', seconds, 'seconds, current time is', datetime.utcnow())\n",
    "    \n",
    "if __name__ == '__main__':\n",
    "    import random    \n",
    "    for n in range(4):\n",
    "        seconds = random.random()\n",
    "        proc = multiprocessing.Process(target=print_sec, args=(seconds,))\n",
    "        proc.start()"
   ]
  },
  {
   "cell_type": "markdown",
   "metadata": {
    "id": "3DQeVniENrtd"
   },
   "source": [
    "#### Q 6. Create a date object of your day of birth"
   ]
  },
  {
   "cell_type": "code",
   "execution_count": 6,
   "metadata": {
    "colab": {
     "base_uri": "https://localhost:8080/"
    },
    "executionInfo": {
     "elapsed": 8,
     "status": "ok",
     "timestamp": 1627041484025,
     "user": {
      "displayName": "Yuno Clover",
      "photoUrl": "",
      "userId": "14793961318254159012"
     },
     "user_tz": -330
    },
    "id": "z4QUpLFOKG_v",
    "outputId": "4681c045-6350-41c5-f8aa-d864ecdb084f"
   },
   "outputs": [
    {
     "name": "stdout",
     "output_type": "stream",
     "text": [
      "My dob is 1991-06-03 00:00:00\n"
     ]
    }
   ],
   "source": [
    "dob = datetime.strptime('03/06/1991','%d/%m/%Y')\n",
    "print(\"My dob is\", dob)"
   ]
  },
  {
   "cell_type": "markdown",
   "metadata": {
    "id": "Dz-aFuxDN9Zl"
   },
   "source": [
    "#### Q 7. What day of the week was your day of birth?"
   ]
  },
  {
   "cell_type": "code",
   "execution_count": 7,
   "metadata": {
    "colab": {
     "base_uri": "https://localhost:8080/"
    },
    "executionInfo": {
     "elapsed": 379,
     "status": "ok",
     "timestamp": 1627041487197,
     "user": {
      "displayName": "Yuno Clover",
      "photoUrl": "",
      "userId": "14793961318254159012"
     },
     "user_tz": -330
    },
    "id": "sne1pWldNyyI",
    "outputId": "e04c7f99-cb6b-4615-fa8e-a7ccce60b16d"
   },
   "outputs": [
    {
     "data": {
      "text/plain": [
       "0"
      ]
     },
     "execution_count": 7,
     "metadata": {},
     "output_type": "execute_result"
    }
   ],
   "source": [
    "dob.weekday()"
   ]
  },
  {
   "cell_type": "markdown",
   "metadata": {
    "id": "ElayoapJOODf"
   },
   "source": [
    "#### Q 8. When will you be (or when were you) 10,000 days old?"
   ]
  },
  {
   "cell_type": "code",
   "execution_count": 8,
   "metadata": {
    "colab": {
     "base_uri": "https://localhost:8080/"
    },
    "executionInfo": {
     "elapsed": 379,
     "status": "ok",
     "timestamp": 1627041490319,
     "user": {
      "displayName": "Yuno Clover",
      "photoUrl": "",
      "userId": "14793961318254159012"
     },
     "user_tz": -330
    },
    "id": "HzFn9wlsOR_v",
    "outputId": "bb5ca2b1-3da6-4852-a46b-db5ff5c7ad69"
   },
   "outputs": [
    {
     "data": {
      "text/plain": [
       "datetime.datetime(2018, 10, 19, 0, 0)"
      ]
     },
     "execution_count": 8,
     "metadata": {},
     "output_type": "execute_result"
    }
   ],
   "source": [
    "from datetime import timedelta\n",
    "day10000 = dob + timedelta(days=10000)\n",
    "day10000"
   ]
  },
  {
   "cell_type": "code",
   "execution_count": null,
   "metadata": {
    "id": "Hk50u6fUObdH"
   },
   "outputs": [],
   "source": []
  }
 ],
 "metadata": {
  "colab": {
   "authorship_tag": "ABX9TyPLIbtwncRvSb+gl4fLV2MA",
   "collapsed_sections": [],
   "name": "Python Basic 21.ipynb",
   "provenance": []
  },
  "kernelspec": {
   "display_name": "Python 3 (ipykernel)",
   "language": "python",
   "name": "python3"
  },
  "language_info": {
   "codemirror_mode": {
    "name": "ipython",
    "version": 3
   },
   "file_extension": ".py",
   "mimetype": "text/x-python",
   "name": "python",
   "nbconvert_exporter": "python",
   "pygments_lexer": "ipython3",
   "version": "3.10.6"
  }
 },
 "nbformat": 4,
 "nbformat_minor": 1
}
