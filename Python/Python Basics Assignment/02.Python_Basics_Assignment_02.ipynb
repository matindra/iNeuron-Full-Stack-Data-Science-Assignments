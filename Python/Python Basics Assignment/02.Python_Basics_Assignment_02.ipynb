{
 "cells": [
  {
   "cell_type": "code",
   "execution_count": null,
   "id": "3b78e01b",
   "metadata": {},
   "outputs": [],
   "source": [
    "Answer 1\n",
    "\n",
    "Two values of the Boolean data type are True and False. \n",
    "Their first letter T and F is in upper case and rest are in lowercase."
   ]
  },
  {
   "cell_type": "code",
   "execution_count": null,
   "id": "4bcb9c9d",
   "metadata": {},
   "outputs": [],
   "source": [
    "Answer 2\n",
    "\n",
    "and, or, and not"
   ]
  },
  {
   "cell_type": "code",
   "execution_count": null,
   "id": "de8bbd46",
   "metadata": {},
   "outputs": [],
   "source": [
    "Answer 3\n",
    "\n",
    "True and True is True.\n",
    "\n",
    "True and False is False.\n",
    "\n",
    "False and True is False.\n",
    "\n",
    "False and False is False.\n",
    "\n",
    "True or True is True.\n",
    "\n",
    "True or False is True.\n",
    "\n",
    "False or True is True.\n",
    "\n",
    "False or False is False."
   ]
  },
  {
   "cell_type": "code",
   "execution_count": null,
   "id": "48213fe4",
   "metadata": {},
   "outputs": [],
   "source": [
    "Answer 4\n",
    "\n",
    "False\n",
    "False\n",
    "True\n",
    "False\n",
    "False\n",
    "True"
   ]
  },
  {
   "cell_type": "code",
   "execution_count": null,
   "id": "3acfc293",
   "metadata": {},
   "outputs": [],
   "source": [
    "Answer 5\n",
    "\n",
    "The six comparison operators are :\n",
    "<, >, <=, >=, != and =="
   ]
  },
  {
   "cell_type": "code",
   "execution_count": null,
   "id": "1a98736b",
   "metadata": {},
   "outputs": [],
   "source": [
    "Answer 6\n",
    "\n",
    "When there is single equal to sign(=) then it is a assignment operator.\n",
    "it is used when there is need to store a value in a varibale.\n",
    "\n",
    "But when there is double equal to sign(==) then it is equal operator.\n",
    "And it is used to compare two values which evaluates to a boolean."
   ]
  },
  {
   "cell_type": "code",
   "execution_count": null,
   "id": "65227cb3",
   "metadata": {},
   "outputs": [],
   "source": [
    "Answer 7\n",
    "\n",
    "spam = 0\n",
    "if spam == 10:\n",
    "    print('eggs')        # block A, indent increased\n",
    "    if spam > 5:         # still block A\n",
    "        print('bacon')   # still block A, indent increased, block B inside block A\n",
    "    else:                # still block A, indent decreased, block B ended in line above\n",
    "        print('ham')     # still block A, indent increased, block C inside block A\n",
    "    print('spam')        # still block A, indent decreased, block C ended in line above\n",
    "print('spam')            # indent decreased, block A ended in line above\n",
    "\n",
    "The three blocks are everything inside the if statement and the lines print('bacon') and print('ham')."
   ]
  },
  {
   "cell_type": "code",
   "execution_count": null,
   "id": "40de61fc",
   "metadata": {},
   "outputs": [],
   "source": [
    "Answer 8\n",
    "\n",
    "spam = 1\n",
    "\n",
    "if spam==1:\n",
    "    print(\"Hello\")\n",
    "elif spam==2:\n",
    "    print(\"Howdy\")\n",
    "else:\n",
    "    print(\"Greetings!\")"
   ]
  },
  {
   "cell_type": "code",
   "execution_count": null,
   "id": "46e13393",
   "metadata": {},
   "outputs": [],
   "source": [
    "Answer 9\n",
    "\n",
    "CTRL+C"
   ]
  },
  {
   "cell_type": "code",
   "execution_count": null,
   "id": "45f26ce2",
   "metadata": {},
   "outputs": [],
   "source": [
    "Answer 10\n",
    "\n",
    "The main difference between both the statements is that when break keyword comes, \n",
    "it terminates the execution of the current loop and passes the control over the next loop or main body, \n",
    "whereas when continue keyword is encountered, \n",
    "it skips the current iteration and executes the very next iteration in the loop. \n",
    "\n",
    "\n",
    "In simple words break statement leaves a loop, \n",
    "whereas the continue statement jumps to the next iteration. "
   ]
  },
  {
   "cell_type": "code",
   "execution_count": null,
   "id": "209c57e4",
   "metadata": {},
   "outputs": [],
   "source": [
    "Answer 11\n",
    "\n",
    "\n",
    "Although all the 3 syntax have same output but their structure is different.\n",
    "\n",
    "Structure of a Python range syntax.\n",
    "\n",
    "range(start, stop, step)\n",
    "\n",
    "if start point and step size is not mentioned then by default 0 is start point and step size is 1.\n",
    "\n",
    "range(10) - It has no start point and step size mentioned. so by default 0 is start point and step size is 1.\n",
    "range(0, 10) - It has no step size mentioned. so by default step size is 1.\n",
    "range(0, 10, 1) - It has start point, stop point and step size mentioned.\n",
    "\n",
    "In a for loop, they all have same output."
   ]
  },
  {
   "cell_type": "code",
   "execution_count": null,
   "id": "b49d1a5f",
   "metadata": {},
   "outputs": [],
   "source": [
    "Answer 12\n",
    "\n",
    "Program that prints the numbers 1 to 10 using a for loop.\n",
    "\n",
    "for i in range(1,11):\n",
    "    print(i)\n",
    "    \n",
    "\n",
    "Same program using while loop    \n",
    "    \n",
    "i = 0\n",
    "\n",
    "while i<10:\n",
    "    i = i+1\n",
    "    print (i)"
   ]
  },
  {
   "cell_type": "code",
   "execution_count": null,
   "id": "3d72e739",
   "metadata": {},
   "outputs": [],
   "source": [
    "Answer 13\n",
    "\n",
    "This function can be called with \n",
    "\n",
    "spam. bacon()."
   ]
  },
  {
   "cell_type": "code",
   "execution_count": null,
   "id": "7fd7adb6",
   "metadata": {},
   "outputs": [],
   "source": []
  }
 ],
 "metadata": {
  "kernelspec": {
   "display_name": "Python 3 (ipykernel)",
   "language": "python",
   "name": "python3"
  },
  "language_info": {
   "codemirror_mode": {
    "name": "ipython",
    "version": 3
   },
   "file_extension": ".py",
   "mimetype": "text/x-python",
   "name": "python",
   "nbconvert_exporter": "python",
   "pygments_lexer": "ipython3",
   "version": "3.10.4"
  }
 },
 "nbformat": 4,
 "nbformat_minor": 5
}
