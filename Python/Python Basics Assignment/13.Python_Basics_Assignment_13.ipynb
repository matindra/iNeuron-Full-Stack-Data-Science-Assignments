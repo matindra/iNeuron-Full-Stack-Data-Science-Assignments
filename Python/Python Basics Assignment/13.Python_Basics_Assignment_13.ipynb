{
 "cells": [
  {
   "cell_type": "markdown",
   "id": "e47298f2",
   "metadata": {},
   "source": [
    "#### Python Basic Assignment 13 Answers"
   ]
  },
  {
   "cell_type": "markdown",
   "id": "94411470",
   "metadata": {},
   "source": [
    "#### Q 1. What advantages do Excel spreadsheets have over CSV spreadsheets?\n",
    "**Ans:** The Advantages of Excel over CSV are:\n",
    "1. Excel (XLS and XLSX) file formats are better for storing and analysing complex data.\n",
    "2. An Excel not only stores data but can also do operations on the data using macros, formulas etc\n",
    "3. CSV files are plain-text files, Does not contain formatting, formulas, macros, etc. It is also known as flat files\n",
    "4. An Excel not only stores data but can also do operations on the data\n",
    "5. Files saved in excel cannot be opened or edited by text editors\n",
    "6. large files user is much easier in Excel for the end user. Also, \n",
    "    you can have additional functions like selecting individual cells for import, \n",
    "    convert dates and time automatically, reading formulas and their results, filters, sorting, etc\n",
    "7. Apart from text, data can also be stored in form of charts and graphs\n",
    "8. Excel can connect to external data sources to fetch data. You can use custom add-in in Excel to increase its functionality. \n",
    "9. Excel allows for Review of Data with detailed tracking and commenting feature\n",
    "10. In Excel, spreadsheets can have values of data types other than strings; cells can have different fonts, sizes, \n",
    "   or color settings; cells can have varying widths and heights; adjacent cells can be merged"
   ]
  },
  {
   "cell_type": "markdown",
   "id": "abf7bc32",
   "metadata": {},
   "source": [
    "#### Q 2.What do you pass to csv.reader() and csv.writer() to create reader and writer objects?\n",
    "**Ans:** "
   ]
  },
  {
   "cell_type": "code",
   "execution_count": null,
   "id": "4d49d964",
   "metadata": {},
   "outputs": [],
   "source": [
    "\n",
    "#we pass a File object, obtained from a call to open().\n",
    "import csv\n",
    "file_csv = open('abc.csv')\n",
    "filereader = csv.reader(file_csv)\n",
    "fileData = list(filereader)\n",
    "fileData"
   ]
  },
  {
   "cell_type": "markdown",
   "id": "10449900",
   "metadata": {},
   "source": [
    "#### Q 3. What modes do File objects for reader and writer objects need to be opened in?\n",
    "\n",
    "**Ans:** File objects need to be opened in read-binary ('rb') for Reader objects and write-binary ('wb') for Writer objects"
   ]
  },
  {
   "cell_type": "markdown",
   "id": "0645f6b5",
   "metadata": {},
   "source": [
    "#### Q 4. What method takes a list argument and writes it to a CSV file?\n",
    "\n",
    "**Ans:** "
   ]
  },
  {
   "cell_type": "code",
   "execution_count": null,
   "id": "589d3cf1",
   "metadata": {},
   "outputs": [],
   "source": [
    " #The writerow() method\n",
    "File_abc = open('abc.csv','w')\n",
    "File_Writer = csv.writer(File_abc)\n",
    "csv.writer(File_abc).writerow(['cat','fish','dog'])"
   ]
  },
  {
   "cell_type": "markdown",
   "id": "8c612233",
   "metadata": {},
   "source": [
    "#### Q 5. What do the keyword arguments delimiter and line terminator do?\n",
    "\n",
    "**Ans:**\n",
    "\n",
    "*  The delimiter argument changes the string used to separate cells in a row. We can use any Character as per our needs if required\n",
    "*  The line terminator argument changes the string used to separate rows. Line Terminator comes at end of line by default it is newline and can be changed accourding to requirement."
   ]
  },
  {
   "cell_type": "markdown",
   "id": "3f6526a4",
   "metadata": {},
   "source": [
    "#### Q 6. What function takes a string of JSON data and returns a Python data structure?\n",
    "\n",
    "**Ans:** `json.loads()` method takes a string of JSON data and returns a Python data structure"
   ]
  },
  {
   "cell_type": "markdown",
   "id": "78f1d04e",
   "metadata": {},
   "source": [
    "#### Q 7. What function takes a Python data structure and returns a string of JSON data?\n",
    "\n",
    "**Ans:** `json.dumps()` method takes a Python data structure and returns a string of JSON data."
   ]
  },
  {
   "cell_type": "code",
   "execution_count": null,
   "id": "df122184",
   "metadata": {},
   "outputs": [],
   "source": []
  }
 ],
 "metadata": {
  "kernelspec": {
   "display_name": "Python 3 (ipykernel)",
   "language": "python",
   "name": "python3"
  },
  "language_info": {
   "codemirror_mode": {
    "name": "ipython",
    "version": 3
   },
   "file_extension": ".py",
   "mimetype": "text/x-python",
   "name": "python",
   "nbconvert_exporter": "python",
   "pygments_lexer": "ipython3",
   "version": "3.10.6"
  }
 },
 "nbformat": 4,
 "nbformat_minor": 5
}
