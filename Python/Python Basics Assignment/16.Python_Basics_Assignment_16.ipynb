{
 "cells": [
  {
   "cell_type": "markdown",
   "id": "4dc394a8",
   "metadata": {},
   "source": [
    "#### Python Basic Assignment 16 Solution"
   ]
  },
  {
   "cell_type": "markdown",
   "id": "935fb9e4",
   "metadata": {},
   "source": [
    "#### Q 1. Create a list called years_list, starting with the year of your birth, and each year thereafter until the year of your fifth birthday. For example, if you were born in 1980. the list would be years_list = [1980, 1981, 1982, 1983, 1984, 1985]."
   ]
  },
  {
   "cell_type": "code",
   "execution_count": 6,
   "id": "9146121b",
   "metadata": {},
   "outputs": [
    {
     "data": {
      "text/plain": [
       "[1991, 1992, 1993, 1994, 1995]"
      ]
     },
     "execution_count": 6,
     "metadata": {},
     "output_type": "execute_result"
    }
   ],
   "source": [
    "# Ans \n",
    "\n",
    "years_list = [i for i in range(1991, 1991+5)]\n",
    "\n",
    "years_list"
   ]
  },
  {
   "cell_type": "markdown",
   "id": "6c47fa50",
   "metadata": {},
   "source": [
    "#### Q 2. In which year in years_list was your third birthday? Remember, you were 0 years of age for your first year."
   ]
  },
  {
   "cell_type": "code",
   "execution_count": 8,
   "id": "e558d091",
   "metadata": {},
   "outputs": [
    {
     "name": "stdout",
     "output_type": "stream",
     "text": [
      "1994\n"
     ]
    }
   ],
   "source": [
    "#Ans\n",
    "\n",
    "print(years_list[3])"
   ]
  },
  {
   "cell_type": "markdown",
   "id": "a66a1abd",
   "metadata": {},
   "source": [
    "#### Q 3.In the years list, which year were you the oldest?"
   ]
  },
  {
   "cell_type": "code",
   "execution_count": 10,
   "id": "bc9d1438",
   "metadata": {},
   "outputs": [
    {
     "name": "stdout",
     "output_type": "stream",
     "text": [
      "1995\n",
      "1995\n"
     ]
    }
   ],
   "source": [
    "#Ans\n",
    "\n",
    "print(years_list[-1]) #method 1\n",
    "print(max(years_list)) #method 2"
   ]
  },
  {
   "cell_type": "markdown",
   "id": "fde193d4",
   "metadata": {},
   "source": [
    "#### Q 4. Make a list called things with these three strings as elements: \"mozzarella\", \"cinderella\", \"salmonella\"."
   ]
  },
  {
   "cell_type": "code",
   "execution_count": 32,
   "id": "fa91036a",
   "metadata": {},
   "outputs": [
    {
     "name": "stdout",
     "output_type": "stream",
     "text": [
      "['mozzarella', 'cinderella', 'salmonella']\n"
     ]
    }
   ],
   "source": [
    "#Ans \n",
    "\n",
    "things = [\"mozzarella\", \"cinderella\", \"salmonella\"]\n",
    "print(things)"
   ]
  },
  {
   "cell_type": "markdown",
   "id": "6299e9ae",
   "metadata": {},
   "source": [
    "#### Q 5. Capitalize the element in things that refers to a person and then print the list. Did it change the element in the list?"
   ]
  },
  {
   "cell_type": "code",
   "execution_count": 34,
   "id": "a0d33fc4",
   "metadata": {},
   "outputs": [
    {
     "name": "stdout",
     "output_type": "stream",
     "text": [
      "Cinderella\n"
     ]
    }
   ],
   "source": [
    "things_capitalized = []\n",
    "\n",
    "for i in range(len(things)):\n",
    "    if things[i] == 'cinderella':\n",
    "        things_capitalized = things[i].capitalize()\n",
    "print(things_capitalized) \n",
    "\n",
    "#Capitalize() will not update the list original values."
   ]
  },
  {
   "cell_type": "markdown",
   "id": "3a45df37",
   "metadata": {},
   "source": [
    "#### Q 6. Make a surprise list with the elements \"Groucho,\" \"Chico,\" and \"Harpo.\""
   ]
  },
  {
   "cell_type": "code",
   "execution_count": 44,
   "id": "d7eda016",
   "metadata": {},
   "outputs": [
    {
     "name": "stdout",
     "output_type": "stream",
     "text": [
      "['Groucho', 'Chico', 'Harpo']\n"
     ]
    }
   ],
   "source": [
    "surprise_list = ['Groucho','Chico','Harpo']\n",
    "print(surprise_list)"
   ]
  },
  {
   "cell_type": "markdown",
   "id": "e912edeb",
   "metadata": {},
   "source": [
    "#### Q 7. Lowercase the last element of the surprise list, reverse it, and then capitalize it."
   ]
  },
  {
   "cell_type": "code",
   "execution_count": 49,
   "id": "76b1ec84",
   "metadata": {},
   "outputs": [
    {
     "name": "stdout",
     "output_type": "stream",
     "text": [
      "Oprah\n"
     ]
    }
   ],
   "source": [
    "list2 = surprise_list[-1].lower()\n",
    "print(list2[::-1].capitalize())"
   ]
  },
  {
   "cell_type": "markdown",
   "id": "bca367ef",
   "metadata": {},
   "source": [
    "#### Q 8. Make an English-to-French dictionary called e2f and print it. Here are your starter words: dog is chien, cat is chat, and walrus is morse."
   ]
  },
  {
   "cell_type": "code",
   "execution_count": 54,
   "id": "e1f003b6",
   "metadata": {},
   "outputs": [
    {
     "name": "stdout",
     "output_type": "stream",
     "text": [
      "{'dog': 'chien', 'cat': 'chat', 'walrus': 'morse'}\n"
     ]
    }
   ],
   "source": [
    "e2f = {'dog':'chien', 'cat':'chat', 'walrus':'morse'}\n",
    "print(e2f)"
   ]
  },
  {
   "cell_type": "markdown",
   "id": "f6a57740",
   "metadata": {},
   "source": [
    "#### Q 9. Write the French word for walrus in your three-word dictionary e2f."
   ]
  },
  {
   "cell_type": "code",
   "execution_count": 58,
   "id": "084d297a",
   "metadata": {},
   "outputs": [
    {
     "name": "stdout",
     "output_type": "stream",
     "text": [
      "morse\n",
      "morse\n"
     ]
    }
   ],
   "source": [
    "#Ans\n",
    "\n",
    "print(e2f['walrus']) #method 1\n",
    "print(e2f.get('walrus')) #method 2"
   ]
  },
  {
   "cell_type": "markdown",
   "id": "47e95959",
   "metadata": {},
   "source": [
    "#### Q 10. Make a French-to-English dictionary called f2e from e2f. Use the items method."
   ]
  },
  {
   "cell_type": "code",
   "execution_count": 56,
   "id": "4f76dc69",
   "metadata": {},
   "outputs": [
    {
     "name": "stdout",
     "output_type": "stream",
     "text": [
      "{'chien': 'dog', 'chat': 'cat', 'morse': 'walrus'}\n",
      "{'chien': 'dog', 'chat': 'cat', 'morse': 'walrus'}\n"
     ]
    }
   ],
   "source": [
    "#Method 1\n",
    "f2e = dict([i[::-1] for i in e2f.items()])\n",
    "print(f2e)\n",
    "\n",
    "#Method 2\n",
    "f2e = dict((key,value) for value,key in e2f.items())\n",
    "print(f2e)"
   ]
  },
  {
   "cell_type": "markdown",
   "id": "884bb5ac",
   "metadata": {},
   "source": [
    "#### Q 11. Print the English version of the French word chien using f2e."
   ]
  },
  {
   "cell_type": "code",
   "execution_count": 59,
   "id": "f6d87907",
   "metadata": {},
   "outputs": [
    {
     "name": "stdout",
     "output_type": "stream",
     "text": [
      "dog\n",
      "dog\n"
     ]
    }
   ],
   "source": [
    "#Ans \n",
    "\n",
    "print(f2e['chien']) #method 1\n",
    "print(f2e.get('chien')) #method 2"
   ]
  },
  {
   "cell_type": "markdown",
   "id": "fc4a030a",
   "metadata": {},
   "source": [
    "#### Q 12. Make and print a set of English words from the keys in e2f."
   ]
  },
  {
   "cell_type": "code",
   "execution_count": 61,
   "id": "f91b6d08",
   "metadata": {},
   "outputs": [
    {
     "name": "stdout",
     "output_type": "stream",
     "text": [
      "['dog', 'cat', 'walrus']\n"
     ]
    }
   ],
   "source": [
    "print(list(e2f.keys()))"
   ]
  },
  {
   "cell_type": "markdown",
   "id": "06fe596f",
   "metadata": {},
   "source": [
    "#### Q 13. Make a multilevel dictionary called life. Use these strings for the topmost keys: 'animals', 'plants', and 'other'. Make the 'animals' key refer to another dictionary with the keys 'cats', 'octopi', and 'emus'. Make the 'cats' key refer to a list of strings with the values 'Henri', 'Grumpy', and 'Lucy'. Make all the other keys refer to empty dictionaries."
   ]
  },
  {
   "cell_type": "code",
   "execution_count": 1,
   "id": "3b47f530",
   "metadata": {},
   "outputs": [
    {
     "name": "stdout",
     "output_type": "stream",
     "text": [
      "{'animals': {'cat': ['Henri', 'Grumpy', 'Lucy'], 'octopi': '', 'emus': ''}, 'plants': '', 'other': ''}\n"
     ]
    }
   ],
   "source": [
    "life ={'animals':{'cat':['Henri', 'Grumpy', 'Lucy'], 'octopi':'', 'emus':''},\n",
    "       'plants' :'',\n",
    "       'other' :'' }\n",
    "print(life)"
   ]
  },
  {
   "cell_type": "markdown",
   "id": "5bb6c3d7",
   "metadata": {},
   "source": [
    "#### Q 14. Print the top-level keys of life."
   ]
  },
  {
   "cell_type": "code",
   "execution_count": 3,
   "id": "0a043542",
   "metadata": {},
   "outputs": [
    {
     "name": "stdout",
     "output_type": "stream",
     "text": [
      "dict_keys(['animals', 'plants', 'other'])\n"
     ]
    }
   ],
   "source": [
    "print(life.keys())"
   ]
  },
  {
   "cell_type": "markdown",
   "id": "740ed41f",
   "metadata": {},
   "source": [
    "#### Q 15. Print the keys for life['animals']."
   ]
  },
  {
   "cell_type": "code",
   "execution_count": 5,
   "id": "ffadad80",
   "metadata": {},
   "outputs": [
    {
     "name": "stdout",
     "output_type": "stream",
     "text": [
      "['cat', 'octopi', 'emus']\n"
     ]
    }
   ],
   "source": [
    "print(list(life['animals'].keys()))"
   ]
  },
  {
   "cell_type": "markdown",
   "id": "c1d968e4",
   "metadata": {},
   "source": [
    "#### Q 16. Print the values for life['animals']['cat']"
   ]
  },
  {
   "cell_type": "code",
   "execution_count": 7,
   "id": "7e9d5eaf",
   "metadata": {},
   "outputs": [
    {
     "name": "stdout",
     "output_type": "stream",
     "text": [
      "['Henri', 'Grumpy', 'Lucy']\n"
     ]
    }
   ],
   "source": [
    "print(life['animals']['cat'])"
   ]
  },
  {
   "cell_type": "code",
   "execution_count": null,
   "id": "6f8fa5f2",
   "metadata": {},
   "outputs": [],
   "source": []
  }
 ],
 "metadata": {
  "kernelspec": {
   "display_name": "Python 3 (ipykernel)",
   "language": "python",
   "name": "python3"
  },
  "language_info": {
   "codemirror_mode": {
    "name": "ipython",
    "version": 3
   },
   "file_extension": ".py",
   "mimetype": "text/x-python",
   "name": "python",
   "nbconvert_exporter": "python",
   "pygments_lexer": "ipython3",
   "version": "3.10.6"
  }
 },
 "nbformat": 4,
 "nbformat_minor": 5
}
