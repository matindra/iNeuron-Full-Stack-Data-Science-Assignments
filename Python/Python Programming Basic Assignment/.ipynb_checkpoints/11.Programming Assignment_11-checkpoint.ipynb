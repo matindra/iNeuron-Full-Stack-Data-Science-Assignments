{
 "cells": [
  {
   "cell_type": "markdown",
   "id": "e9523fbb",
   "metadata": {},
   "source": [
    "### Programming Assignment 11 Solutions"
   ]
  },
  {
   "cell_type": "markdown",
   "id": "267b6b8f",
   "metadata": {},
   "source": [
    "#### 1. Write a Python program to find words which are greater than given length k ?"
   ]
  },
  {
   "cell_type": "code",
   "execution_count": 1,
   "id": "d3ec10f6",
   "metadata": {},
   "outputs": [
    {
     "name": "stdout",
     "output_type": "stream",
     "text": [
      "Enter the string : python is awesome\n",
      "Enter the lenth K : 3\n",
      "\n",
      "The original string ' python is awesome '\n",
      "Words greater than k3\n",
      "['python', 'awesome']\n"
     ]
    }
   ],
   "source": [
    "def length_of_string(k,str):\n",
    "    txt = str.split()\n",
    "    Wordlist = []\n",
    "    for i in txt:\n",
    "        if len(i) > k:\n",
    "            Wordlist.append(i)\n",
    "    return Wordlist\n",
    "\n",
    "str = input(\"Enter the string : \")\n",
    "k = int(input(\"Enter the lenth K : \"))\n",
    "\n",
    "Wordlist = length_of_string(k,str)\n",
    "\n",
    "print(\"\\nThe original string ' {} '\".format(str))\n",
    "\n",
    "print(\"Words greater than k{}\".format(k))\n",
    "print(Wordlist)"
   ]
  },
  {
   "cell_type": "markdown",
   "id": "3711485d",
   "metadata": {},
   "source": [
    "#### 2. Write a Python program for removing i-th character from a string ?"
   ]
  },
  {
   "cell_type": "code",
   "execution_count": 2,
   "id": "f7fccd01",
   "metadata": {},
   "outputs": [
    {
     "name": "stdout",
     "output_type": "stream",
     "text": [
      "Enter the String: python\n",
      "Enter the ith Character: 2\n",
      "pyhon\n"
     ]
    }
   ],
   "source": [
    "def remove_character():\n",
    "    n = input(\"Enter the String: \")\n",
    "    num = int(input(\"Enter the ith Character: \"))\n",
    "    out_string = ''\n",
    "    for i in range(len(n)):\n",
    "        if i != num:\n",
    "            out_string = out_string + n[i]\n",
    "    print(out_string)\n",
    "    \n",
    "remove_character()"
   ]
  },
  {
   "cell_type": "markdown",
   "id": "845ba790",
   "metadata": {},
   "source": [
    "#### 3. Write a Python program to split and join a string ?"
   ]
  },
  {
   "cell_type": "code",
   "execution_count": 3,
   "id": "fd82df54",
   "metadata": {},
   "outputs": [
    {
     "name": "stdout",
     "output_type": "stream",
     "text": [
      "Enter the string: python is awesome\n",
      "Split String: ['python', 'is', 'awesome']\n",
      "Join String: python is awesome\n"
     ]
    }
   ],
   "source": [
    "def split_join_string():\n",
    "    n = input('Enter the string: ')\n",
    "    print(f\"Split String: {n.split(' ')}\")\n",
    "    print(f\"Join String: {' '.join(n.split(' '))}\")\n",
    "\n",
    "split_join_string()"
   ]
  },
  {
   "cell_type": "markdown",
   "id": "ee642cdf",
   "metadata": {},
   "source": [
    "#### 4. Write a Python to check if a given string is binary string or not ?"
   ]
  },
  {
   "cell_type": "code",
   "execution_count": 4,
   "id": "6d04b29e",
   "metadata": {},
   "outputs": [
    {
     "name": "stdout",
     "output_type": "stream",
     "text": [
      "Enter the string: 456\n",
      "456 is not a binary string\n",
      "Enter the string: 101011\n",
      "101011 is a binary string\n"
     ]
    }
   ],
   "source": [
    "def check_binary():\n",
    "    n = input('Enter the string: ')\n",
    "    binary = 0\n",
    "    for i in n:\n",
    "        if i in ['0','1']:\n",
    "            binary = 1\n",
    "            continue\n",
    "        else:\n",
    "            binary = 0\n",
    "            break\n",
    "    statement = 'is a binary string' if binary == 1 else 'is not a binary string' \n",
    "    print(f'{n} {statement}')\n",
    "\n",
    "check_binary()\n",
    "check_binary()"
   ]
  },
  {
   "cell_type": "markdown",
   "id": "d22e2622",
   "metadata": {},
   "source": [
    "#### 5. Write a Python program to find uncommon words from two Strings ?"
   ]
  },
  {
   "cell_type": "code",
   "execution_count": 5,
   "id": "be223e06",
   "metadata": {},
   "outputs": [
    {
     "name": "stdout",
     "output_type": "stream",
     "text": [
      "Enter the String 1: python coding\n",
      "Enter the String 2: java coding\n",
      "{'python', 'java'}\n"
     ]
    }
   ],
   "source": [
    "def uncommon_words():\n",
    "    in_string_1 = set(input(\"Enter the String 1: \").split(' '))\n",
    "    in_string_2 = set(input(\"Enter the String 2: \").split(' '))\n",
    "    out_string = (in_string_1.union(in_string_2)).difference(in_string_1.intersection(in_string_2))\n",
    "    print(out_string)\n",
    "\n",
    "uncommon_words()"
   ]
  },
  {
   "cell_type": "markdown",
   "id": "a077bda5",
   "metadata": {},
   "source": [
    "#### 6. Write a Python to find all duplicate characters in string ?"
   ]
  },
  {
   "cell_type": "code",
   "execution_count": 6,
   "id": "6116a494",
   "metadata": {},
   "outputs": [
    {
     "name": "stdout",
     "output_type": "stream",
     "text": [
      "Enter the string: python coding is awesome\n",
      "Duplicate characters are: ['i', 'o', ' ', 'e', 'n', 's']\n"
     ]
    }
   ],
   "source": [
    "def duplicate_characters():\n",
    "    n = input('Enter the string: ')\n",
    "    non_duplicate_list = []\n",
    "    duplicate_list = []\n",
    "    for i in n:\n",
    "        if i not in non_duplicate_list:\n",
    "            non_duplicate_list.append(i)\n",
    "        else:\n",
    "            duplicate_list.append(i)\n",
    "    print(f'Duplicate characters are: {list(set(duplicate_list))}')\n",
    "        \n",
    "duplicate_characters()"
   ]
  },
  {
   "cell_type": "markdown",
   "id": "e14912b1",
   "metadata": {},
   "source": [
    "#### 7. Write a Python Program to check if a string contains any special character?"
   ]
  },
  {
   "cell_type": "code",
   "execution_count": 7,
   "id": "b51b221d",
   "metadata": {},
   "outputs": [
    {
     "name": "stdout",
     "output_type": "stream",
     "text": [
      "Enter the string: pyth@n !s a#es@m<\n",
      "There are 5 Speical Characters in pyth@n !s a#es@m< which are ['@', '!', '#', '@', '<']\n",
      "Enter the string: python is swesome\n",
      "There are 0 Speical Characters in python is swesome which are []\n"
     ]
    }
   ],
   "source": [
    "def check_special_char():\n",
    "    spl_chars = '[@_!#$%^&*()<>?/\\|}{~:]'\n",
    "    n = input('Enter the string: ')\n",
    "    count = 0\n",
    "    char_list = []\n",
    "    for i in n:\n",
    "        if i in spl_chars:\n",
    "            char_list.append(i)\n",
    "            count = count+1\n",
    "    print(f'There are {count} Speical Characters in {n} which are {char_list}')\n",
    "            \n",
    "        \n",
    "check_special_char()\n",
    "check_special_char()"
   ]
  },
  {
   "cell_type": "code",
   "execution_count": null,
   "id": "e9d0a56e",
   "metadata": {},
   "outputs": [],
   "source": []
  }
 ],
 "metadata": {
  "kernelspec": {
   "display_name": "Python 3 (ipykernel)",
   "language": "python",
   "name": "python3"
  },
  "language_info": {
   "codemirror_mode": {
    "name": "ipython",
    "version": 3
   },
   "file_extension": ".py",
   "mimetype": "text/x-python",
   "name": "python",
   "nbconvert_exporter": "python",
   "pygments_lexer": "ipython3",
   "version": "3.10.6"
  }
 },
 "nbformat": 4,
 "nbformat_minor": 5
}
