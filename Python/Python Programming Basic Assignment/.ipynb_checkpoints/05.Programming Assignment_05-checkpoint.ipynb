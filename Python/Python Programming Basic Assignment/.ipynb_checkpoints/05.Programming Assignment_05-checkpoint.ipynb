{
 "cells": [
  {
   "cell_type": "markdown",
   "id": "9e1733f2",
   "metadata": {},
   "source": [
    "# Assignment 5 Solutions"
   ]
  },
  {
   "cell_type": "markdown",
   "id": "901748b2",
   "metadata": {},
   "source": [
    "#### 1. Write a Python Program to find LCM ?"
   ]
  },
  {
   "cell_type": "code",
   "execution_count": 1,
   "id": "ea35da56",
   "metadata": {},
   "outputs": [
    {
     "name": "stdout",
     "output_type": "stream",
     "text": [
      "Enter the first number: 5\n",
      "Enter the second number: 25\n",
      "The LCM of 5 and 25 is 25\n"
     ]
    }
   ],
   "source": [
    "def find_lcm(a, b):\n",
    "    # Find the maximum of the two numbers\n",
    "    greater_term = max(a, b)\n",
    "    \n",
    "    while True:\n",
    "        if greater_term % a == 0 and greater_term % b == 0:\n",
    "            lcm = greater_term\n",
    "            break\n",
    "        greater_term += 1\n",
    "    \n",
    "    return lcm\n",
    "\n",
    "# Example usage\n",
    "num1 = int(input(\"Enter the first number: \"))\n",
    "num2 = int(input(\"Enter the second number: \"))\n",
    "\n",
    "result = find_lcm(num1, num2)\n",
    "print(\"The LCM of\", num1, \"and\", num2, \"is\", result)"
   ]
  },
  {
   "cell_type": "markdown",
   "id": "5998fa74",
   "metadata": {},
   "source": [
    "#### 2. Write a Python Program to find HCF ?"
   ]
  },
  {
   "cell_type": "code",
   "execution_count": 2,
   "id": "10fed9b9",
   "metadata": {},
   "outputs": [
    {
     "name": "stdout",
     "output_type": "stream",
     "text": [
      "Enter the first number: 5\n",
      "Enter the second number: 23\n",
      "The HCF of 5 and 23 is 1\n"
     ]
    }
   ],
   "source": [
    "def find_hcf(a, b):\n",
    "    while b != 0:\n",
    "        a, b = b, a % b\n",
    "    \n",
    "    return a\n",
    "\n",
    "# Example usage\n",
    "num1 = int(input(\"Enter the first number: \"))\n",
    "num2 = int(input(\"Enter the second number: \"))\n",
    "\n",
    "result = find_hcf(num1, num2)\n",
    "print(\"The HCF of\", num1, \"and\", num2, \"is\", result)"
   ]
  },
  {
   "cell_type": "markdown",
   "id": "f29f8214",
   "metadata": {},
   "source": [
    "#### 3. Write a Python Program to Convert Decimal to Binary, Octal and Hexadecimal ?"
   ]
  },
  {
   "cell_type": "code",
   "execution_count": 3,
   "id": "53212645",
   "metadata": {},
   "outputs": [
    {
     "name": "stdout",
     "output_type": "stream",
     "text": [
      "Enter a Number: 789\n",
      "Binary Number: 0b1100010101\n",
      "Octal Number: 0o1425\n",
      "Hexadecimal Number: 0x315\n"
     ]
    }
   ],
   "source": [
    "def Decimal_to_Other():\n",
    "    num = int(input('Enter a Number: '))\n",
    "    print(f'Binary Number: {bin(num)}')\n",
    "    print(f'Octal Number: {oct(num)}')    \n",
    "    print(f'Hexadecimal Number: {hex(num)}')    \n",
    "\n",
    "Decimal_to_Other()"
   ]
  },
  {
   "cell_type": "markdown",
   "id": "1a4ed424",
   "metadata": {},
   "source": [
    "#### 4. Write a Python Program to Find the ASCII value of  a Character ?"
   ]
  },
  {
   "cell_type": "code",
   "execution_count": 4,
   "id": "8173265f",
   "metadata": {},
   "outputs": [
    {
     "name": "stdout",
     "output_type": "stream",
     "text": [
      "Enter a Character: @\n",
      "Ascii Character of @ is 64\n"
     ]
    }
   ],
   "source": [
    "def find_ascii():\n",
    "    char = input('Enter a Character: ')\n",
    "    if len(char) > 1:\n",
    "        print('Please Enter a Single Character')\n",
    "    else:\n",
    "        print(f'Ascii Character of {char} is {ord(char)}')\n",
    "\n",
    "find_ascii()"
   ]
  },
  {
   "cell_type": "markdown",
   "id": "e9f467f1",
   "metadata": {},
   "source": [
    "#### 5. Write a Python Program to Make a Simple Calculator with 4 Basic Mathematical operations ?"
   ]
  },
  {
   "cell_type": "code",
   "execution_count": 5,
   "id": "846d7a21",
   "metadata": {},
   "outputs": [
    {
     "name": "stdout",
     "output_type": "stream",
     "text": [
      "Select operation:\n",
      "1. Addition\n",
      "2. Subtraction\n",
      "3. Multiplication\n",
      "4. Division\n",
      "Enter operation number (1-4): 4\n",
      "Enter the first number: 10\n",
      "Enter the second number: 5\n",
      "Result: 2.0\n"
     ]
    }
   ],
   "source": [
    "def add(a, b):\n",
    "    return a + b\n",
    "\n",
    "def subtract(a, b):\n",
    "    return a - b\n",
    "\n",
    "def multiply(a, b):\n",
    "    return a * b\n",
    "\n",
    "def divide(a, b):\n",
    "    if b != 0:\n",
    "        return a / b\n",
    "    else:\n",
    "        return \"Cannot divide by zero.\"\n",
    "\n",
    "# Example usage\n",
    "print(\"Select operation:\")\n",
    "print(\"1. Addition\")\n",
    "print(\"2. Subtraction\")\n",
    "print(\"3. Multiplication\")\n",
    "print(\"4. Division\")\n",
    "\n",
    "operation = int(input(\"Enter operation number (1-4): \"))\n",
    "\n",
    "num1 = float(input(\"Enter the first number: \"))\n",
    "num2 = float(input(\"Enter the second number: \"))\n",
    "\n",
    "result = 0\n",
    "\n",
    "if operation == 1:\n",
    "    result = add(num1, num2)\n",
    "elif operation == 2:\n",
    "    result = subtract(num1, num2)\n",
    "elif operation == 3:\n",
    "    result = multiply(num1, num2)\n",
    "elif operation == 4:\n",
    "    result = divide(num1, num2)\n",
    "else:\n",
    "    print(\"Invalid operation number.\")\n",
    "\n",
    "print(\"Result:\", result)"
   ]
  },
  {
   "cell_type": "code",
   "execution_count": null,
   "id": "4c8ec85b",
   "metadata": {},
   "outputs": [],
   "source": []
  }
 ],
 "metadata": {
  "kernelspec": {
   "display_name": "Python 3 (ipykernel)",
   "language": "python",
   "name": "python3"
  },
  "language_info": {
   "codemirror_mode": {
    "name": "ipython",
    "version": 3
   },
   "file_extension": ".py",
   "mimetype": "text/x-python",
   "name": "python",
   "nbconvert_exporter": "python",
   "pygments_lexer": "ipython3",
   "version": "3.10.6"
  }
 },
 "nbformat": 4,
 "nbformat_minor": 5
}
