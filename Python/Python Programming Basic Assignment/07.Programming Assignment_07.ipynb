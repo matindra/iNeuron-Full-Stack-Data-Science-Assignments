{
 "cells": [
  {
   "cell_type": "markdown",
   "id": "d3a4bb27",
   "metadata": {},
   "source": [
    "# Assignment 7 Solutions"
   ]
  },
  {
   "cell_type": "markdown",
   "id": "823845d3",
   "metadata": {},
   "source": [
    "#### 1. Write a Python Program to find sum of Array ?"
   ]
  },
  {
   "cell_type": "code",
   "execution_count": 1,
   "id": "6dd2fd5c",
   "metadata": {},
   "outputs": [
    {
     "name": "stdout",
     "output_type": "stream",
     "text": [
      "Enter the Array: [11,2,32,5,7]\n",
      "The sum of [11, 2, 32, 5, 7] is 57\n"
     ]
    }
   ],
   "source": [
    "def sum_array():\n",
    "    arr = eval(input(\"Enter the Array: \"))\n",
    "    print(f'The sum of {arr} is {sum(arr)}')\n",
    "\n",
    "sum_array()\n"
   ]
  },
  {
   "cell_type": "markdown",
   "id": "9e6c1983",
   "metadata": {},
   "source": [
    "#### 2. Write a Python Program to find Largest element in an Array ?"
   ]
  },
  {
   "cell_type": "code",
   "execution_count": 2,
   "id": "e5c57cb3",
   "metadata": {},
   "outputs": [
    {
     "name": "stdout",
     "output_type": "stream",
     "text": [
      "Enter the Array: [4,5,6,7,8,9]\n",
      "The Largest Element in [4, 5, 6, 7, 8, 9] is 9\n"
     ]
    }
   ],
   "source": [
    "def largest_element():\n",
    "    arr = eval(input(\"Enter the Array: \"))\n",
    "    print(f\"The Largest Element in {arr} is {sorted(arr, reverse=True)[0]}\")\n",
    "    \n",
    "largest_element()"
   ]
  },
  {
   "cell_type": "markdown",
   "id": "c2705b7d",
   "metadata": {},
   "source": [
    "#### 3. Write a Python Program for array rotation ?"
   ]
  },
  {
   "cell_type": "code",
   "execution_count": 3,
   "id": "08afb7ff",
   "metadata": {},
   "outputs": [
    {
     "name": "stdout",
     "output_type": "stream",
     "text": [
      "Enter the Array: [1,2,3,4,5]\n",
      "The Reverse of Array [1, 2, 3, 4, 5] is [5, 4, 3, 2, 1]\n"
     ]
    }
   ],
   "source": [
    "def reverse_array():\n",
    "    arr = eval(input(\"Enter the Array: \"))\n",
    "    print(f\"The Reverse of Array {arr} is {arr[::-1]}\")\n",
    "    \n",
    "reverse_array()"
   ]
  },
  {
   "cell_type": "markdown",
   "id": "5b6207c1",
   "metadata": {},
   "source": [
    "#### 4. Write a Python Program to Split the array and add the first part to the end ?"
   ]
  },
  {
   "cell_type": "code",
   "execution_count": 4,
   "id": "d6e5de3d",
   "metadata": {},
   "outputs": [
    {
     "name": "stdout",
     "output_type": "stream",
     "text": [
      "Enter the Array: [12,5,7,22,10]\n",
      "The Sum of First and Last Elements of Array [12, 5, 7, 22, 10] is 22\n"
     ]
    }
   ],
   "source": [
    "def sum_splits():\n",
    "    arr = eval(input(\"Enter the Array: \"))\n",
    "    print(f\"The Sum of First and Last Elements of Array {arr} is {arr[0]+arr[-1]}\")\n",
    "    \n",
    "sum_splits()"
   ]
  },
  {
   "cell_type": "markdown",
   "id": "eb0e084d",
   "metadata": {},
   "source": [
    "#### 5. Write a Python Program to check if given array is Monotonic ?"
   ]
  },
  {
   "cell_type": "code",
   "execution_count": 5,
   "id": "08c0196d",
   "metadata": {},
   "outputs": [
    {
     "name": "stdout",
     "output_type": "stream",
     "text": [
      "Enter the Array: [1,2,3,4,5]\n",
      "Array [1, 2, 3, 4, 5] is Monotonic\n",
      "Enter the Array: [12,5,7,22,10]\n",
      "Array [12, 5, 7, 22, 10] is Not Monotonic\n"
     ]
    }
   ],
   "source": [
    "def check_monotonic():\n",
    "    arr = eval(input(\"Enter the Array: \"))\n",
    "    if(all(arr[i]<=arr[i+1] for i in range(len(arr)-1)) or all(arr[i]>=arr[i+1] for i in range(len(arr)-1))):\n",
    "        print(f'Array {arr} is Monotonic')\n",
    "    else:\n",
    "        print(f'Array {arr} is Not Monotonic')\n",
    "\n",
    "check_monotonic()\n",
    "check_monotonic()"
   ]
  },
  {
   "cell_type": "code",
   "execution_count": null,
   "id": "7a57669f",
   "metadata": {},
   "outputs": [],
   "source": []
  }
 ],
 "metadata": {
  "kernelspec": {
   "display_name": "Python 3 (ipykernel)",
   "language": "python",
   "name": "python3"
  },
  "language_info": {
   "codemirror_mode": {
    "name": "ipython",
    "version": 3
   },
   "file_extension": ".py",
   "mimetype": "text/x-python",
   "name": "python",
   "nbconvert_exporter": "python",
   "pygments_lexer": "ipython3",
   "version": "3.10.6"
  }
 },
 "nbformat": 4,
 "nbformat_minor": 5
}
