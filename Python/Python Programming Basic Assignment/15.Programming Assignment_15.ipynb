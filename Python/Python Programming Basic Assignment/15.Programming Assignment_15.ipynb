{
 "cells": [
  {
   "cell_type": "markdown",
   "id": "62dc089c",
   "metadata": {},
   "source": [
    "### Programming Assignment 15 Solutions"
   ]
  },
  {
   "cell_type": "markdown",
   "id": "3ea2824c",
   "metadata": {},
   "source": [
    "#### 1. Please write a program using generator to print the numbers which can be divisible by 5 and 7 between 0 and n in comma separated form while n is input by console ?  \n",
    "**Example:**  \n",
    "If the following n is given as input to the program: `100`  \n",
    "Then, the output of the program should be: `0,35,70`  "
   ]
  },
  {
   "cell_type": "code",
   "execution_count": 1,
   "id": "6b44f04f",
   "metadata": {},
   "outputs": [
    {
     "name": "stdout",
     "output_type": "stream",
     "text": [
      "Enter the value of n: 100\n",
      "0,35,70\n"
     ]
    }
   ],
   "source": [
    "def divisible_by_5_and_7(n):\n",
    "    for i in range(n + 1):\n",
    "        if i % 5 == 0 and i % 7 == 0:\n",
    "            yield i\n",
    "\n",
    "def print_numbers(n):\n",
    "    divisible_nums = divisible_by_5_and_7(n)\n",
    "    print(','.join(map(str, divisible_nums)))\n",
    "\n",
    "# Read input from the console\n",
    "n = int(input(\"Enter the value of n: \"))\n",
    "\n",
    "# Call the function to print the numbers\n",
    "print_numbers(n)"
   ]
  },
  {
   "cell_type": "markdown",
   "id": "22fd82eb",
   "metadata": {},
   "source": [
    "#### 2.Please write a program using generator to print the even numbers between 0 and n in comma separated form while n is input by console ?\n",
    "**Example:**  \n",
    "If the following n is given as input to the program: `10`  \n",
    "Then, the output of the program should be: `0,2,4,6,8,10`"
   ]
  },
  {
   "cell_type": "code",
   "execution_count": 2,
   "id": "3e415e4c",
   "metadata": {},
   "outputs": [
    {
     "name": "stdout",
     "output_type": "stream",
     "text": [
      "0 2 4 6 8 10 "
     ]
    }
   ],
   "source": [
    "def get_even_numbers(n):\n",
    "    for i in range(n+1):\n",
    "        if i%2 == 0:\n",
    "            yield i\n",
    "\n",
    "for i in get_even_numbers(10):\n",
    "    print(i,end=' ')"
   ]
  },
  {
   "cell_type": "markdown",
   "id": "549ded1e",
   "metadata": {},
   "source": [
    "#### 3.The Fibonacci Sequence is computed based on the following formula below, Please write a program using list comprehension to print the Fibonacci Sequence in comma separated form with a given n input by console ?\n",
    "`f(n)=0 if n=0\n",
    "f(n)=1 if n=1\n",
    "f(n)=f(n-1)+f(n-2) if n>1` "
   ]
  },
  {
   "cell_type": "code",
   "execution_count": 3,
   "id": "90585ee0",
   "metadata": {},
   "outputs": [
    {
     "name": "stdout",
     "output_type": "stream",
     "text": [
      "[0, 1, 1, 2, 3, 5, 8, 13, 21, 34, 55, 89, 144, 233, 377, 610, 987, 1597, 2584, 4181]\n"
     ]
    }
   ],
   "source": [
    "def gen_fibonacci(n):\n",
    "    if n == 0:\n",
    "        return 0\n",
    "    elif n == 1:\n",
    "        return 1\n",
    "    else:\n",
    "        return gen_fibonacci(n-1)+gen_fibonacci(n-2)\n",
    "    \n",
    "print([gen_fibonacci(x) for x in range(20)])"
   ]
  },
  {
   "cell_type": "markdown",
   "id": "03d71fc6",
   "metadata": {},
   "source": [
    "#### 4.Assuming that we have some email addresses in the \"username@companyname.com\" format, please write program to print the user name of a given email address. Both user names and company names are composed of letters only ?\n",
    "**Example:**   \n",
    "If the following email address is given as input to the program: `john@google.com`   \n",
    "Then, the output of the program should be: `john`"
   ]
  },
  {
   "cell_type": "code",
   "execution_count": 4,
   "id": "bf70a3c6",
   "metadata": {},
   "outputs": [
    {
     "name": "stdout",
     "output_type": "stream",
     "text": [
      "Enter an email address: query@ineuron.ai\n",
      "The username is: query\n"
     ]
    }
   ],
   "source": [
    "def get_username(email_address):\n",
    "    username, company_name = email_address.split('@')\n",
    "    return username\n",
    "\n",
    "\n",
    "if __name__ == '__main__':\n",
    "    \n",
    "    email_address = input('Enter an email address: ')\n",
    "    username = get_username(email_address)\n",
    "    print('The username is:', username)"
   ]
  },
  {
   "cell_type": "markdown",
   "id": "8fbb0d51",
   "metadata": {},
   "source": [
    "#### 5.Define a class named Shape and its subclass Square. The Square class has an init function which takes a length as argument. Both classes have a area function which can print the area of the shape where Shape's area is 0 by default."
   ]
  },
  {
   "cell_type": "code",
   "execution_count": 5,
   "id": "edcee9a6",
   "metadata": {},
   "outputs": [
    {
     "name": "stdout",
     "output_type": "stream",
     "text": [
      "2500\n"
     ]
    }
   ],
   "source": [
    "class Shape:\n",
    "    def area(self):\n",
    "        return 0\n",
    "\n",
    "class Square(Shape):\n",
    "    def __init__(self, length):\n",
    "        self.length = length\n",
    "    def area(self):\n",
    "        return self.length*self.length\n",
    "\n",
    "square = Square(50)\n",
    "print(square.area())"
   ]
  }
 ],
 "metadata": {
  "kernelspec": {
   "display_name": "Python 3 (ipykernel)",
   "language": "python",
   "name": "python3"
  },
  "language_info": {
   "codemirror_mode": {
    "name": "ipython",
    "version": 3
   },
   "file_extension": ".py",
   "mimetype": "text/x-python",
   "name": "python",
   "nbconvert_exporter": "python",
   "pygments_lexer": "ipython3",
   "version": "3.10.6"
  }
 },
 "nbformat": 4,
 "nbformat_minor": 5
}
