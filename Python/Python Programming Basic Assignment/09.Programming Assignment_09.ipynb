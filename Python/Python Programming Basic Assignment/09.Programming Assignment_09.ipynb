{
 "cells": [
  {
   "cell_type": "markdown",
   "id": "d0105bec",
   "metadata": {},
   "source": [
    "### 09.Programming Assignment_09"
   ]
  },
  {
   "cell_type": "markdown",
   "id": "abd957e6",
   "metadata": {},
   "source": [
    "#### 1.Write a Python Program to check if the given number is a Disarium Number ?"
   ]
  },
  {
   "cell_type": "code",
   "execution_count": 1,
   "id": "746fd8cb",
   "metadata": {},
   "outputs": [
    {
     "name": "stdout",
     "output_type": "stream",
     "text": [
      "Enter a Number: 175\n",
      "175 is a Disarium Number\n",
      "Enter a Number: 200\n",
      "200 is a Not Disarium Number\n"
     ]
    }
   ],
   "source": [
    "def disarium_number():\n",
    "    num = input('Enter a Number: ')\n",
    "    sum = 0\n",
    "    for item in range(len(num)):\n",
    "        sum = sum + int(num[item])**(item+1)\n",
    "    if sum == int(num):\n",
    "        print(f'{num} is a Disarium Number')\n",
    "    else:\n",
    "        print(f'{num} is a Not Disarium Number') \n",
    "\n",
    "disarium_number()\n",
    "disarium_number()"
   ]
  },
  {
   "cell_type": "markdown",
   "id": "f11e7cd5",
   "metadata": {},
   "source": [
    "#### 2.Write a Python Program to print all Disarium numbers between 1 to 100 ?"
   ]
  },
  {
   "cell_type": "code",
   "execution_count": 2,
   "id": "03d9e0f4",
   "metadata": {},
   "outputs": [
    {
     "data": {
      "text/plain": [
       "[1, 2, 3, 4, 5, 6, 7, 8, 9, 89]"
      ]
     },
     "execution_count": 2,
     "metadata": {},
     "output_type": "execute_result"
    }
   ],
   "source": [
    "def check_disarium_numbers(start=0,end=100):\n",
    "    output_num = []\n",
    "    for number in range(start,end+1):\n",
    "        sum = 0\n",
    "        for item in range(len(str(number))):\n",
    "            sum = sum + int(str(number)[item])**(item+1)\n",
    "        if sum == number:\n",
    "            output_num.append(number)\n",
    "    return output_num\n",
    "            \n",
    "        \n",
    "check_disarium_numbers(1,100)"
   ]
  },
  {
   "cell_type": "markdown",
   "id": "a3f58a68",
   "metadata": {},
   "source": [
    "#### 3.Write a Python Program to check if the given number is Happy Number ?"
   ]
  },
  {
   "cell_type": "code",
   "execution_count": 3,
   "id": "28d42beb",
   "metadata": {},
   "outputs": [
    {
     "name": "stdout",
     "output_type": "stream",
     "text": [
      "Enter a Number: 13\n",
      "13 is a Happy Number\n",
      "Enter a Number: 20\n",
      "20 is not a Happy Number\n"
     ]
    }
   ],
   "source": [
    "def happy_number():\n",
    "    num = input('Enter a Number: ')\n",
    "    num_duplicate = num\n",
    "    track_number = set()   \n",
    "    while True:\n",
    "        if num != '1' and str(num) not in track_number:\n",
    "            track_number.add(num)\n",
    "            sum = 0\n",
    "            for i in range(len((num))):\n",
    "                sum = sum + int(num[i])**2\n",
    "            num = str(sum)\n",
    "        elif str(num) in track_number:\n",
    "            print(f'{num_duplicate} is not a Happy Number')\n",
    "            break\n",
    "        else:\n",
    "            print(f'{num_duplicate} is a Happy Number')\n",
    "            break\n",
    "\n",
    "happy_number()\n",
    "happy_number()"
   ]
  },
  {
   "cell_type": "markdown",
   "id": "4c5027f6",
   "metadata": {},
   "source": [
    "#### 4.Write a Python Program to print all Happy numbers between 1 and 100 ?"
   ]
  },
  {
   "cell_type": "code",
   "execution_count": 4,
   "id": "a578ab2a",
   "metadata": {},
   "outputs": [
    {
     "name": "stdout",
     "output_type": "stream",
     "text": [
      "The Happy Numbers between 0 and 100 are [1, 7, 10, 13, 19, 23, 28, 31, 32, 44, 49, 68, 70, 79, 82, 86, 91, 94, 97, 100]\n"
     ]
    }
   ],
   "source": [
    "def check_happy_number(start=0,end=100):\n",
    "    happy_number_list = []\n",
    "    for num in range(start,end+1):\n",
    "        num = str(num)\n",
    "        num_holder = num\n",
    "        track_number = set()   \n",
    "        while True:\n",
    "            if num != '1' and str(num) not in track_number:\n",
    "                track_number.add(num)\n",
    "                sum = 0\n",
    "                for i in range(len((num))):\n",
    "                    sum = sum + int(num[i])**2\n",
    "                num = str(sum)\n",
    "            elif str(num) in track_number:\n",
    "                break\n",
    "            else:\n",
    "                happy_number_list.append(int(num_holder))\n",
    "                break\n",
    "    print(f'The Happy Numbers between {start} and {end} are {happy_number_list}')\n",
    "    \n",
    "check_happy_number(0,100)"
   ]
  },
  {
   "cell_type": "markdown",
   "id": "ed74970d",
   "metadata": {},
   "source": [
    "#### 5.Write a Python Program to determine whether the given number is a Harshad Number ?"
   ]
  },
  {
   "cell_type": "code",
   "execution_count": 5,
   "id": "27198cbb",
   "metadata": {},
   "outputs": [
    {
     "name": "stdout",
     "output_type": "stream",
     "text": [
      "Enter a Number: 540\n",
      "540 is a Harshad number\n",
      "Enter a Number: 20\n",
      "20 is a Harshad number\n"
     ]
    }
   ],
   "source": [
    "def is_harshad_number():\n",
    "    \n",
    "    num = int(input('Enter a Number: '))\n",
    "    # Calculate the sum of digits\n",
    "    digit_sum = sum(int(digit) for digit in str(num))\n",
    "\n",
    "    # Check if the number is divisible by the sum of digits\n",
    "    if int(num) % digit_sum == 0:\n",
    "        print(f'{num} is a Harshad number')\n",
    "    else:\n",
    "        print(f'{num} is not a Harshad number')\n",
    "\n",
    "is_harshad_number()\n",
    "is_harshad_number()"
   ]
  },
  {
   "cell_type": "markdown",
   "id": "142b8027",
   "metadata": {},
   "source": [
    "#### 6.Write a Python Program to print all pronic numbers between 1 and 100 ?"
   ]
  },
  {
   "cell_type": "code",
   "execution_count": 6,
   "id": "dc0b22c6",
   "metadata": {},
   "outputs": [
    {
     "name": "stdout",
     "output_type": "stream",
     "text": [
      "[0, 2, 6, 12, 20, 30, 42, 56, 72, 90, 110, 132, 156, 182, 210, 240, 272, 306, 342, 380, 420, 462, 506, 552, 600, 650, 702, 756, 812, 870, 930, 992, 1056, 1122, 1190, 1260, 1332, 1406, 1482, 1560, 1640, 1722, 1806, 1892, 1980, 2070, 2162, 2256, 2352, 2450, 2550, 2652, 2756, 2862, 2970, 3080, 3192, 3306, 3422, 3540, 3660, 3782, 3906, 4032, 4160, 4290, 4422, 4556, 4692, 4830, 4970, 5112, 5256, 5402, 5550, 5700, 5852, 6006, 6162, 6320, 6480, 6642, 6806, 6972, 7140, 7310, 7482, 7656, 7832, 8010, 8190, 8372, 8556, 8742, 8930, 9120, 9312, 9506, 9702, 9900, 10100]\n"
     ]
    }
   ],
   "source": [
    "def pronic_numbers(start=0,end=100):\n",
    "    output_list = []\n",
    "    for i in range(start,end+1):\n",
    "        output_list.append((i)*(i+1))\n",
    "    print(output_list)\n",
    "                   \n",
    "pronic_numbers()"
   ]
  },
  {
   "cell_type": "code",
   "execution_count": null,
   "id": "a9d66445",
   "metadata": {},
   "outputs": [],
   "source": []
  }
 ],
 "metadata": {
  "kernelspec": {
   "display_name": "Python 3 (ipykernel)",
   "language": "python",
   "name": "python3"
  },
  "language_info": {
   "codemirror_mode": {
    "name": "ipython",
    "version": 3
   },
   "file_extension": ".py",
   "mimetype": "text/x-python",
   "name": "python",
   "nbconvert_exporter": "python",
   "pygments_lexer": "ipython3",
   "version": "3.10.6"
  }
 },
 "nbformat": 4,
 "nbformat_minor": 5
}
