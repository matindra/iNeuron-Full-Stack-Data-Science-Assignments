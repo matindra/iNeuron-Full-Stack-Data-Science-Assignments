{
 "cells": [
  {
   "cell_type": "markdown",
   "id": "d3a4bb27",
   "metadata": {},
   "source": [
    "# Assignment 8 Solutions"
   ]
  },
  {
   "cell_type": "markdown",
   "id": "823845d3",
   "metadata": {},
   "source": [
    "#### 1. Write a Python Program to Add two Matrices ?"
   ]
  },
  {
   "cell_type": "code",
   "execution_count": 1,
   "id": "6dd2fd5c",
   "metadata": {},
   "outputs": [
    {
     "name": "stdout",
     "output_type": "stream",
     "text": [
      "Result:\n",
      "[10, 10, 10]\n",
      "[10, 10, 10]\n",
      "[10, 10, 10]\n"
     ]
    }
   ],
   "source": [
    "def add_matrices(matrix1, matrix2):\n",
    "    # Check if the matrices have the same dimensions\n",
    "    if len(matrix1) != len(matrix2) or len(matrix1[0]) != len(matrix2[0]):\n",
    "        print(\"Error: Matrices must have the same dimensions.\")\n",
    "        return None\n",
    "\n",
    "    # Create a result matrix with the same dimensions as the input matrices\n",
    "    result = [[0] * len(matrix1[0]) for _ in range(len(matrix1))]\n",
    "\n",
    "    # Add corresponding elements from the input matrices and store the result in the result matrix\n",
    "    for i in range(len(matrix1)):\n",
    "        for j in range(len(matrix1[0])):\n",
    "            result[i][j] = matrix1[i][j] + matrix2[i][j]\n",
    "\n",
    "    return result\n",
    "\n",
    "# Example matrices\n",
    "matrix1 = [[1, 2, 3], [4, 5, 6], [7, 8, 9]]\n",
    "matrix2 = [[9, 8, 7], [6, 5, 4], [3, 2, 1]]\n",
    "\n",
    "# Add the matrices\n",
    "result_matrix = add_matrices(matrix1, matrix2)\n",
    "\n",
    "# Print the result\n",
    "if result_matrix is not None:\n",
    "    print(\"Result:\")\n",
    "    for row in result_matrix:\n",
    "        print(row)"
   ]
  },
  {
   "cell_type": "markdown",
   "id": "9e6c1983",
   "metadata": {},
   "source": [
    "#### 2. Write a Python Program to Multiply two Matrices ?"
   ]
  },
  {
   "cell_type": "code",
   "execution_count": 2,
   "id": "e5c57cb3",
   "metadata": {},
   "outputs": [
    {
     "name": "stdout",
     "output_type": "stream",
     "text": [
      "Result:\n",
      "[58, 64]\n",
      "[139, 154]\n"
     ]
    }
   ],
   "source": [
    "def multiply_matrices(matrix1, matrix2):\n",
    "    # Check if the matrices can be multiplied\n",
    "    if len(matrix1[0]) != len(matrix2):\n",
    "        print(\"Error: The number of columns in the first matrix must match the number of rows in the second matrix.\")\n",
    "        return None\n",
    "\n",
    "    # Create a result matrix with dimensions (rows of matrix1) x (columns of matrix2)\n",
    "    result = [[0] * len(matrix2[0]) for _ in range(len(matrix1))]\n",
    "\n",
    "    # Perform matrix multiplication\n",
    "    for i in range(len(matrix1)):\n",
    "        for j in range(len(matrix2[0])):\n",
    "            for k in range(len(matrix2)):\n",
    "                result[i][j] += matrix1[i][k] * matrix2[k][j]\n",
    "\n",
    "    return result\n",
    "\n",
    "# Example matrices\n",
    "matrix1 = [[1, 2, 3], [4, 5, 6]]\n",
    "matrix2 = [[7, 8], [9, 10], [11, 12]]\n",
    "\n",
    "# Multiply the matrices\n",
    "result_matrix = multiply_matrices(matrix1, matrix2)\n",
    "\n",
    "# Print the result\n",
    "if result_matrix is not None:\n",
    "    print(\"Result:\")\n",
    "    for row in result_matrix:\n",
    "        print(row)"
   ]
  },
  {
   "cell_type": "markdown",
   "id": "c2705b7d",
   "metadata": {},
   "source": [
    "#### 3. Write a Python Program to transpose a Matrix ?"
   ]
  },
  {
   "cell_type": "code",
   "execution_count": 3,
   "id": "08afb7ff",
   "metadata": {},
   "outputs": [
    {
     "name": "stdout",
     "output_type": "stream",
     "text": [
      "[[1, 2, 3], [4, 5, 6], [7, 8, 9]] -> [[1, 4, 7], [2, 5, 8], [3, 6, 9]]\n",
      "[[1, 2], [4, 5], [7, 8]] -> [[1, 4, 7], [2, 5, 8]]\n",
      "[[1, 2, 3], [4, 5, 6]] -> [[1, 4], [2, 5], [3, 6]]\n"
     ]
    }
   ],
   "source": [
    "a = [[1,2,3],[4,5,6],[7,8,9]]\n",
    "b = [[1,2],[4,5],[7,8]]\n",
    "c = [[1,2,3],[4,5,6]]\n",
    "\n",
    "def generate_transpose(in_matrix):\n",
    "    out_matrix = []\n",
    "    for ele in range(len(in_matrix[0])):\n",
    "        out_matrix.append([0 for i in range(len(in_matrix))])\n",
    "    for i in range(len(in_matrix)):\n",
    "        for j in range(len(in_matrix[i])):\n",
    "            out_matrix[j][i] = in_matrix[i][j]\n",
    "    print(f'{in_matrix} -> {out_matrix}')\n",
    "        \n",
    "generate_transpose(a)\n",
    "generate_transpose(b)\n",
    "generate_transpose(c)"
   ]
  },
  {
   "cell_type": "markdown",
   "id": "5b6207c1",
   "metadata": {},
   "source": [
    "#### 4. Write a Python Program to sort Words in an Alphabatical Order ?"
   ]
  },
  {
   "cell_type": "code",
   "execution_count": 4,
   "id": "d6e5de3d",
   "metadata": {},
   "outputs": [
    {
     "name": "stdout",
     "output_type": "stream",
     "text": [
      "Enter a String: The journey of a thousand miles begins with a single step\n",
      "A A Begins Journey Miles Of Single Step The Thousand With\n"
     ]
    }
   ],
   "source": [
    "def sort_string():\n",
    "    in_string = input(\"Enter a String: \").title()\n",
    "    sorted_list = sorted(in_string.split(' '))\n",
    "    print(' '.join(sorted_list))\n",
    "\n",
    "sort_string()"
   ]
  },
  {
   "cell_type": "markdown",
   "id": "eb0e084d",
   "metadata": {},
   "source": [
    "#### 5. Write a Python Program to remove Punctuations From a String ?"
   ]
  },
  {
   "cell_type": "code",
   "execution_count": 5,
   "id": "08c0196d",
   "metadata": {},
   "outputs": [
    {
     "name": "stdout",
     "output_type": "stream",
     "text": [
      "Enter a String: The sun sets, the moon rises; a beautiful symphony of day and night\n",
      "The sun sets the moon rises a beautiful symphony of day and night\n"
     ]
    }
   ],
   "source": [
    "def remove_punctuatuions():\n",
    "    punctuations = '''!()-[]{};:'\"\\,<>./?@#$%^&*_~'''\n",
    "    in_string = input('Enter a String: ')\n",
    "    out_string = ''\n",
    "    for ele in in_string:\n",
    "        if ele not in punctuations:\n",
    "            out_string += ele\n",
    "    print(out_string)\n",
    "    \n",
    "remove_punctuatuions()"
   ]
  },
  {
   "cell_type": "code",
   "execution_count": null,
   "id": "42abec4b",
   "metadata": {},
   "outputs": [],
   "source": []
  }
 ],
 "metadata": {
  "kernelspec": {
   "display_name": "Python 3 (ipykernel)",
   "language": "python",
   "name": "python3"
  },
  "language_info": {
   "codemirror_mode": {
    "name": "ipython",
    "version": 3
   },
   "file_extension": ".py",
   "mimetype": "text/x-python",
   "name": "python",
   "nbconvert_exporter": "python",
   "pygments_lexer": "ipython3",
   "version": "3.10.6"
  }
 },
 "nbformat": 4,
 "nbformat_minor": 5
}
