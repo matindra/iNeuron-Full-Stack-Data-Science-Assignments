{
 "cells": [
  {
   "cell_type": "markdown",
   "id": "0753e292",
   "metadata": {},
   "source": [
    "### Programming Assignment 10 Solutions"
   ]
  },
  {
   "cell_type": "markdown",
   "id": "d6f96d38",
   "metadata": {},
   "source": [
    "#### 1.Write a Python Program to find sum of Elements in a list ?"
   ]
  },
  {
   "cell_type": "code",
   "execution_count": 1,
   "id": "1fbea5b2",
   "metadata": {
    "scrolled": true
   },
   "outputs": [
    {
     "name": "stdout",
     "output_type": "stream",
     "text": [
      "Enter the No of Entries in a List: 5\n",
      "Enter a Element: 4\n",
      "Enter a Element: 5\n",
      "Enter a Element: 1\n",
      "Enter a Element: 6\n",
      "Enter a Element: 8\n",
      "Sum of Elements: 24\n"
     ]
    }
   ],
   "source": [
    "def sum_of_lst():\n",
    "    \n",
    "    n = int(input('Enter the No of Entries in a List: '))\n",
    "\n",
    "    list = []\n",
    "    for i in range(n):\n",
    "        list.append(int(input('Enter a Element: ')))\n",
    "    print(f'Sum of Elements: {sum(list)}')\n",
    "\n",
    "sum_of_lst()"
   ]
  },
  {
   "cell_type": "markdown",
   "id": "35ff9c7c",
   "metadata": {},
   "source": [
    "#### 2.Write a Python Program to multiply all numbers in the list ?"
   ]
  },
  {
   "cell_type": "code",
   "execution_count": 2,
   "id": "d77e77e6",
   "metadata": {},
   "outputs": [
    {
     "name": "stdout",
     "output_type": "stream",
     "text": [
      "Enter the No of Entries in a List: 5\n",
      "Enter a Element: 1\n",
      "Enter a Element: 8\n",
      "Enter a Element: 1\n",
      "Enter a Element: 3\n",
      "Enter a Element: 5\n",
      "120\n"
     ]
    }
   ],
   "source": [
    "def multiplication_of_list():\n",
    "    n = int(input('Enter the No of Entries in a List: '))\n",
    "    list = []\n",
    "    mul = 1\n",
    "    for itr in range(n):\n",
    "        list.append(int(input('Enter a Element: ')))\n",
    "    for i in list:\n",
    "        mul = mul * i\n",
    "    print(mul)\n",
    "\n",
    "multiplication_of_list()"
   ]
  },
  {
   "cell_type": "markdown",
   "id": "0561967b",
   "metadata": {},
   "source": [
    "#### 3.Write a Python Program to find smallest number in the list ?"
   ]
  },
  {
   "cell_type": "code",
   "execution_count": 3,
   "id": "3e9863eb",
   "metadata": {},
   "outputs": [
    {
     "name": "stdout",
     "output_type": "stream",
     "text": [
      "Enter the No of Elements in a list: 5\n",
      "Enter a element: 1\n",
      "Enter a element: 2\n",
      "Enter a element: 3\n",
      "Enter a element: 4\n",
      "Enter a element: 5\n",
      "The Smallest Element in [1, 2, 3, 4, 5] is 1\n"
     ]
    }
   ],
   "source": [
    "def small_in_list():\n",
    "    n = int(input('Enter the No of Elements in a list: '))\n",
    "    list = []\n",
    "    for i in range(n):\n",
    "        list.append(int(input('Enter a element: ')))\n",
    "    print(f'The Smallest Element in {list} is {sorted(list)[0]}')\n",
    "small_in_list()"
   ]
  },
  {
   "cell_type": "markdown",
   "id": "0684d2e6",
   "metadata": {},
   "source": [
    "#### 4.Write a Python Program to find largest number in the list ?"
   ]
  },
  {
   "cell_type": "code",
   "execution_count": 4,
   "id": "c1984a1c",
   "metadata": {},
   "outputs": [
    {
     "name": "stdout",
     "output_type": "stream",
     "text": [
      "Enter the No of Elements in a list: 4\n",
      "Enter a Element: 9\n",
      "Enter a Element: 7\n",
      "Enter a Element: 5\n",
      "Enter a Element: 2\n",
      "The Largest Element in [9, 7, 5, 2] is 9\n"
     ]
    }
   ],
   "source": [
    "def largest_in_list():\n",
    "    n = int(input('Enter the No of Elements in a list: '))\n",
    "    list = []\n",
    "    for i in range(n):\n",
    "        list.append(int(input('Enter a Element: ')))\n",
    "    print(f'The Largest Element in {list} is {sorted(list, reverse=True)[0]}')\n",
    "\n",
    "largest_in_list()"
   ]
  },
  {
   "cell_type": "markdown",
   "id": "ef882ac4",
   "metadata": {},
   "source": [
    "#### 5.Write a Python Program to find second largest number in the list ?"
   ]
  },
  {
   "cell_type": "code",
   "execution_count": 5,
   "id": "ca2c5e29",
   "metadata": {},
   "outputs": [
    {
     "name": "stdout",
     "output_type": "stream",
     "text": [
      "Enter the No of Elements in a list: 6\n",
      "Enter a Element: 9\n",
      "Enter a Element: 8\n",
      "Enter a Element: 7\n",
      "Enter a Element: 6\n",
      "Enter a Element: 5\n",
      "Enter a Element: 4\n",
      "The Second Largest Element in [9, 8, 7, 6, 5, 4] is 8\n"
     ]
    }
   ],
   "source": [
    "def second_largest_in_ist():\n",
    "    n = int(input('Enter the No of Elements in a list: '))\n",
    "    list = []\n",
    "    for i in range(n):\n",
    "        list.append(int(input('Enter a Element: ')))\n",
    "    print(f'The Second Largest Element in {list} is {sorted(list, reverse=True)[1]}')\n",
    "\n",
    "second_largest_in_ist()"
   ]
  },
  {
   "cell_type": "markdown",
   "id": "ee185d52",
   "metadata": {},
   "source": [
    "#### 6.Write a Python Program to find N largest Elements in the list ?"
   ]
  },
  {
   "cell_type": "code",
   "execution_count": 6,
   "id": "e2c518fa",
   "metadata": {},
   "outputs": [
    {
     "name": "stdout",
     "output_type": "stream",
     "text": [
      "Enter the No of Elements in a list: 5\n",
      "Enter a Element: 9\n",
      "Enter a Element: 7\n",
      "Enter a Element: 5\n",
      "Enter a Element: 3\n",
      "Enter a Element: 6\n",
      "The 4 Largest Element in [9, 7, 5, 3, 6] is [9, 7, 6, 5]\n"
     ]
    }
   ],
   "source": [
    "def n_largesti_in_list(k):\n",
    "    n = int(input('Enter the No of Elements in a list: '))\n",
    "    list = []\n",
    "    for i in range(n):\n",
    "        list.append(int(input('Enter a Element: ')))\n",
    "    print(f'The {k} Largest Element in {list} is {sorted(list, reverse=True)[0:k]}')\n",
    "\n",
    "n_largesti_in_list(4)"
   ]
  },
  {
   "cell_type": "markdown",
   "id": "7f5a2b91",
   "metadata": {},
   "source": [
    "#### 7.Write a Python Program to find even numbers in the list ?"
   ]
  },
  {
   "cell_type": "code",
   "execution_count": 10,
   "id": "e9b0d19a",
   "metadata": {},
   "outputs": [
    {
     "name": "stdout",
     "output_type": "stream",
     "text": [
      "Enter the No of Elements in a list: 6\n",
      "Enter a Element: 1\n",
      "Enter a Element: 2\n",
      "Enter a Element: 3\n",
      "Enter a Element: 4\n",
      "Enter a Element: 5\n",
      "Enter a Element: 6\n",
      "The Even Elements in [1, 2, 3, 4, 5, 6] are [2, 4, 6]\n"
     ]
    }
   ],
   "source": [
    "def even_numbers_in_list():\n",
    "    n = int(input('Enter the No of Elements in a list: '))\n",
    "    list = []\n",
    "    even_list = []\n",
    "    for i in range(n):\n",
    "        list.append(int(input('Enter a Element: ')))\n",
    "    for i in list:\n",
    "        if i%2 == 0:\n",
    "            even_list.append(i)\n",
    "    print(f'The Even Elements in {list} are {even_list}')\n",
    "\n",
    "even_numbers_in_list()"
   ]
  },
  {
   "cell_type": "markdown",
   "id": "a5d3f862",
   "metadata": {},
   "source": [
    "#### 8.Write a Python Program to find odd numbers in the list ?"
   ]
  },
  {
   "cell_type": "code",
   "execution_count": 11,
   "id": "101d0718",
   "metadata": {},
   "outputs": [
    {
     "name": "stdout",
     "output_type": "stream",
     "text": [
      "Enter the No of Elements in a list: 6\n",
      "Enter a Element: 1\n",
      "Enter a Element: 2\n",
      "Enter a Element: 3\n",
      "Enter a Element: 4\n",
      "Enter a Element: 5\n",
      "Enter a Element: 6\n",
      "The Even Elements in [1, 2, 3, 4, 5, 6] are [1, 3, 5]\n"
     ]
    }
   ],
   "source": [
    "def odd_number_in_list():\n",
    "    n = int(input('Enter the No of Elements in a list: '))\n",
    "    list = []\n",
    "    odd_list = []\n",
    "    for i in range(n):\n",
    "        list.append(int(input('Enter a Element: ')))\n",
    "    for i in list:\n",
    "        if i%2 != 0:\n",
    "            odd_list.append(i)\n",
    "    print(f'The Even Elements in {list} are {odd_list}')\n",
    "\n",
    "odd_number_in_list()"
   ]
  },
  {
   "cell_type": "markdown",
   "id": "f97fa7ea",
   "metadata": {},
   "source": [
    "#### 9.Write a Python Program to remove empty list from list ?"
   ]
  },
  {
   "cell_type": "code",
   "execution_count": 12,
   "id": "193a2ef1",
   "metadata": {},
   "outputs": [
    {
     "name": "stdout",
     "output_type": "stream",
     "text": [
      "Enter all Elements of the list: [1,2,3,4,5,[],7,8,9]\n",
      "There is an Empty list in [1, 2, 3, 4, 5, [], 7, 8, 9] at Position 5\n",
      "The List after removing [] is [1, 2, 3, 4, 5, 7, 8, 9]\n"
     ]
    }
   ],
   "source": [
    "def check_empty_list():\n",
    "    list = eval(input('Enter all Elements of the list: '))\n",
    "    if [] in list:\n",
    "        print(f'There is an Empty list in {list} at Position {list.index([])}')\n",
    "        list.remove([])\n",
    "        print(f'The List after removing [] is {list}')\n",
    "    else:\n",
    "        print(f'There is no [] List in the list {list}')\n",
    "        \n",
    "check_empty_list()"
   ]
  },
  {
   "cell_type": "markdown",
   "id": "1a5b1f91",
   "metadata": {},
   "source": [
    "#### 10.Write a Python Program to Cloning or Copying a list ?"
   ]
  },
  {
   "cell_type": "code",
   "execution_count": 13,
   "id": "55882ca5",
   "metadata": {},
   "outputs": [
    {
     "name": "stdout",
     "output_type": "stream",
     "text": [
      "Enter a list[11,12,13,14,15,16,17,18]\n",
      "[11, 12, 13, 14, 15, 16, 17, 18] 139778973823104\n",
      "[11, 12, 13, 14, 15, 16, 17, 18] 139778974286080\n"
     ]
    }
   ],
   "source": [
    "import copy\n",
    "\n",
    "def clone_list():\n",
    "    list = eval(input('Enter a list'))\n",
    "    print(list, id(list))\n",
    "    cloned_list = list.copy()\n",
    "    print(cloned_list, id(cloned_list))\n",
    "\n",
    "clone_list()"
   ]
  },
  {
   "cell_type": "markdown",
   "id": "37e5e6bd",
   "metadata": {},
   "source": [
    "#### 11.Write a Python Program to count occurences of an Element in a list ?"
   ]
  },
  {
   "cell_type": "code",
   "execution_count": 15,
   "id": "8a5e7b52",
   "metadata": {},
   "outputs": [
    {
     "name": "stdout",
     "output_type": "stream",
     "text": [
      "Enter the Elements of the list: [3,4,5,6,7,8]\n",
      "Enter the Element to find: 5\n",
      "There are 1 occurences of 5 in [3, 4, 5, 6, 7, 8]\n"
     ]
    }
   ],
   "source": [
    "def check_occurence():\n",
    "    list = eval(input('Enter the Elements of the list: '))\n",
    "    num = eval(input('Enter the Element to find: '))\n",
    "    count = 0\n",
    "    if num in list:\n",
    "        for i in list:\n",
    "            if i == num:\n",
    "                count = count+1\n",
    "    print(f'There are {count} occurences of {num} in {list}')\n",
    "    \n",
    "check_occurence()"
   ]
  },
  {
   "cell_type": "code",
   "execution_count": null,
   "id": "4a6c3ac7",
   "metadata": {},
   "outputs": [],
   "source": []
  }
 ],
 "metadata": {
  "kernelspec": {
   "display_name": "Python 3 (ipykernel)",
   "language": "python",
   "name": "python3"
  },
  "language_info": {
   "codemirror_mode": {
    "name": "ipython",
    "version": 3
   },
   "file_extension": ".py",
   "mimetype": "text/x-python",
   "name": "python",
   "nbconvert_exporter": "python",
   "pygments_lexer": "ipython3",
   "version": "3.10.6"
  }
 },
 "nbformat": 4,
 "nbformat_minor": 5
}
